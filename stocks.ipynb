{
 "cells": [
  {
   "cell_type": "code",
   "execution_count": 10,
   "id": "ace07697-51b6-4838-887c-019072e55332",
   "metadata": {},
   "outputs": [],
   "source": [
    "import pandas as pd\n",
    "import numpy as np\n",
    "import scipy.stats as stats\n",
    "import matplotlib as plt\n",
    "import os\n",
    "\n"
   ]
  },
  {
   "cell_type": "code",
   "execution_count": 11,
   "id": "feb0569d-bf97-4a7c-a9c6-2ffdd45e2354",
   "metadata": {},
   "outputs": [],
   "source": [
    "#creating a path\n",
    "#file_path =(\"Resources/StockDataConsolidated.csv\")\n",
    "file_path =(\"../Project-1/StockDataConsolidated.csv\")\n",
    "#Desktop/Project-1/StockDataConsolidated.csv"
   ]
  },
  {
   "cell_type": "code",
   "execution_count": 12,
   "id": "79b17cd3-6d6f-4b72-b799-acc66cc903b0",
   "metadata": {},
   "outputs": [
    {
     "data": {
      "text/html": [
       "<div>\n",
       "<style scoped>\n",
       "    .dataframe tbody tr th:only-of-type {\n",
       "        vertical-align: middle;\n",
       "    }\n",
       "\n",
       "    .dataframe tbody tr th {\n",
       "        vertical-align: top;\n",
       "    }\n",
       "\n",
       "    .dataframe thead th {\n",
       "        text-align: right;\n",
       "    }\n",
       "</style>\n",
       "<table border=\"1\" class=\"dataframe\">\n",
       "  <thead>\n",
       "    <tr style=\"text-align: right;\">\n",
       "      <th></th>\n",
       "      <th>Ticker</th>\n",
       "      <th>Date</th>\n",
       "      <th>Open</th>\n",
       "      <th>High</th>\n",
       "      <th>Low</th>\n",
       "      <th>Close</th>\n",
       "      <th>Adj Close</th>\n",
       "      <th>Volume</th>\n",
       "    </tr>\n",
       "  </thead>\n",
       "  <tbody>\n",
       "    <tr>\n",
       "      <th>0</th>\n",
       "      <td>NVDA</td>\n",
       "      <td>1/2/13</td>\n",
       "      <td>3.140000</td>\n",
       "      <td>3.182500</td>\n",
       "      <td>3.127500</td>\n",
       "      <td>3.180000</td>\n",
       "      <td>2.935840</td>\n",
       "      <td>47883600</td>\n",
       "    </tr>\n",
       "    <tr>\n",
       "      <th>1</th>\n",
       "      <td>NVDA</td>\n",
       "      <td>1/3/13</td>\n",
       "      <td>3.180000</td>\n",
       "      <td>3.217500</td>\n",
       "      <td>3.145000</td>\n",
       "      <td>3.182500</td>\n",
       "      <td>2.938147</td>\n",
       "      <td>29888800</td>\n",
       "    </tr>\n",
       "    <tr>\n",
       "      <th>2</th>\n",
       "      <td>NVDA</td>\n",
       "      <td>1/4/13</td>\n",
       "      <td>3.187500</td>\n",
       "      <td>3.297500</td>\n",
       "      <td>3.177500</td>\n",
       "      <td>3.287500</td>\n",
       "      <td>3.035086</td>\n",
       "      <td>52496800</td>\n",
       "    </tr>\n",
       "    <tr>\n",
       "      <th>3</th>\n",
       "      <td>NVDA</td>\n",
       "      <td>1/7/13</td>\n",
       "      <td>3.285000</td>\n",
       "      <td>3.295000</td>\n",
       "      <td>3.170000</td>\n",
       "      <td>3.192500</td>\n",
       "      <td>2.947381</td>\n",
       "      <td>61073200</td>\n",
       "    </tr>\n",
       "    <tr>\n",
       "      <th>4</th>\n",
       "      <td>NVDA</td>\n",
       "      <td>1/8/13</td>\n",
       "      <td>3.200000</td>\n",
       "      <td>3.210000</td>\n",
       "      <td>3.100000</td>\n",
       "      <td>3.122500</td>\n",
       "      <td>2.882755</td>\n",
       "      <td>46642400</td>\n",
       "    </tr>\n",
       "    <tr>\n",
       "      <th>...</th>\n",
       "      <td>...</td>\n",
       "      <td>...</td>\n",
       "      <td>...</td>\n",
       "      <td>...</td>\n",
       "      <td>...</td>\n",
       "      <td>...</td>\n",
       "      <td>...</td>\n",
       "      <td>...</td>\n",
       "    </tr>\n",
       "    <tr>\n",
       "      <th>8549</th>\n",
       "      <td>AI</td>\n",
       "      <td>12/22/23</td>\n",
       "      <td>29.700001</td>\n",
       "      <td>29.950001</td>\n",
       "      <td>28.420000</td>\n",
       "      <td>28.740000</td>\n",
       "      <td>28.740000</td>\n",
       "      <td>9783900</td>\n",
       "    </tr>\n",
       "    <tr>\n",
       "      <th>8550</th>\n",
       "      <td>AI</td>\n",
       "      <td>12/26/23</td>\n",
       "      <td>28.900000</td>\n",
       "      <td>29.889999</td>\n",
       "      <td>28.659000</td>\n",
       "      <td>29.469999</td>\n",
       "      <td>29.469999</td>\n",
       "      <td>7758200</td>\n",
       "    </tr>\n",
       "    <tr>\n",
       "      <th>8551</th>\n",
       "      <td>AI</td>\n",
       "      <td>12/27/23</td>\n",
       "      <td>29.709999</td>\n",
       "      <td>30.459999</td>\n",
       "      <td>29.400000</td>\n",
       "      <td>30.049999</td>\n",
       "      <td>30.049999</td>\n",
       "      <td>9300300</td>\n",
       "    </tr>\n",
       "    <tr>\n",
       "      <th>8552</th>\n",
       "      <td>AI</td>\n",
       "      <td>12/28/23</td>\n",
       "      <td>30.000000</td>\n",
       "      <td>31.129999</td>\n",
       "      <td>29.790001</td>\n",
       "      <td>30.230000</td>\n",
       "      <td>30.230000</td>\n",
       "      <td>8979400</td>\n",
       "    </tr>\n",
       "    <tr>\n",
       "      <th>8553</th>\n",
       "      <td>AI</td>\n",
       "      <td>12/29/23</td>\n",
       "      <td>30.180000</td>\n",
       "      <td>30.200001</td>\n",
       "      <td>28.559999</td>\n",
       "      <td>28.709999</td>\n",
       "      <td>28.709999</td>\n",
       "      <td>10659600</td>\n",
       "    </tr>\n",
       "  </tbody>\n",
       "</table>\n",
       "<p>8554 rows × 8 columns</p>\n",
       "</div>"
      ],
      "text/plain": [
       "     Ticker      Date       Open       High        Low      Close  Adj Close  \\\n",
       "0      NVDA    1/2/13   3.140000   3.182500   3.127500   3.180000   2.935840   \n",
       "1      NVDA    1/3/13   3.180000   3.217500   3.145000   3.182500   2.938147   \n",
       "2      NVDA    1/4/13   3.187500   3.297500   3.177500   3.287500   3.035086   \n",
       "3      NVDA    1/7/13   3.285000   3.295000   3.170000   3.192500   2.947381   \n",
       "4      NVDA    1/8/13   3.200000   3.210000   3.100000   3.122500   2.882755   \n",
       "...     ...       ...        ...        ...        ...        ...        ...   \n",
       "8549     AI  12/22/23  29.700001  29.950001  28.420000  28.740000  28.740000   \n",
       "8550     AI  12/26/23  28.900000  29.889999  28.659000  29.469999  29.469999   \n",
       "8551     AI  12/27/23  29.709999  30.459999  29.400000  30.049999  30.049999   \n",
       "8552     AI  12/28/23  30.000000  31.129999  29.790001  30.230000  30.230000   \n",
       "8553     AI  12/29/23  30.180000  30.200001  28.559999  28.709999  28.709999   \n",
       "\n",
       "        Volume  \n",
       "0     47883600  \n",
       "1     29888800  \n",
       "2     52496800  \n",
       "3     61073200  \n",
       "4     46642400  \n",
       "...        ...  \n",
       "8549   9783900  \n",
       "8550   7758200  \n",
       "8551   9300300  \n",
       "8552   8979400  \n",
       "8553  10659600  \n",
       "\n",
       "[8554 rows x 8 columns]"
      ]
     },
     "execution_count": 12,
     "metadata": {},
     "output_type": "execute_result"
    }
   ],
   "source": [
    "#Reading the csv file\n",
    "stock_df = pd.read_csv(file_path)\n",
    "stock_df"
   ]
  },
  {
   "cell_type": "code",
   "execution_count": 13,
   "id": "c466f3f1-b7f5-4fc4-aa31-e999b03f2edb",
   "metadata": {},
   "outputs": [],
   "source": [
    "#Variables\n",
    "stock_data_list_1yr = [\"NVDA\",\"META\",\"AMD\",\"AI\"]\n",
    "stock_data_list = [\"NVDA\",\"META\",\"AMD\"]\n",
    "# close_price = 0\n",
    "# open_price = 0\n",
    "#to find the means of the stocks over the following time periods \n",
    "#time_period = 1, 3, 5, 10 (year)\n",
    "#Final answers should be two decimal points\n",
    "# use default color for graphs \n",
    "\n"
   ]
  },
  {
   "cell_type": "markdown",
   "id": "9a80f778-b430-44f5-8b4b-d54c8c4801c3",
   "metadata": {},
   "source": [
    "# Calculate Statistical Measures "
   ]
  },
  {
   "cell_type": "code",
   "execution_count": 14,
   "id": "4cf3cdc9-37c7-431b-a73a-67b07988064e",
   "metadata": {},
   "outputs": [
    {
     "name": "stdout",
     "output_type": "stream",
     "text": [
      "     Ticker      Date       Open       High        Low      Close  Adj Close  \\\n",
      "0      NVDA    1/2/13   3.140000   3.182500   3.127500   3.180000   2.935840   \n",
      "1      NVDA    1/3/13   3.180000   3.217500   3.145000   3.182500   2.938147   \n",
      "2      NVDA    1/4/13   3.187500   3.297500   3.177500   3.287500   3.035086   \n",
      "3      NVDA    1/7/13   3.285000   3.295000   3.170000   3.192500   2.947381   \n",
      "4      NVDA    1/8/13   3.200000   3.210000   3.100000   3.122500   2.882755   \n",
      "...     ...       ...        ...        ...        ...        ...        ...   \n",
      "8549     AI  12/22/23  29.700001  29.950001  28.420000  28.740000  28.740000   \n",
      "8550     AI  12/26/23  28.900000  29.889999  28.659000  29.469999  29.469999   \n",
      "8551     AI  12/27/23  29.709999  30.459999  29.400000  30.049999  30.049999   \n",
      "8552     AI  12/28/23  30.000000  31.129999  29.790001  30.230000  30.230000   \n",
      "8553     AI  12/29/23  30.180000  30.200001  28.559999  28.709999  28.709999   \n",
      "\n",
      "        Volume  \n",
      "0     47883600  \n",
      "1     29888800  \n",
      "2     52496800  \n",
      "3     61073200  \n",
      "4     46642400  \n",
      "...        ...  \n",
      "8549   9783900  \n",
      "8550   7758200  \n",
      "8551   9300300  \n",
      "8552   8979400  \n",
      "8553  10659600  \n",
      "\n",
      "[8554 rows x 8 columns]\n"
     ]
    }
   ],
   "source": [
    "stock_df = stock_df.dropna()\n",
    "print(stock_df)"
   ]
  },
  {
   "cell_type": "code",
   "execution_count": 61,
   "id": "d3c279ac-41b5-4bf6-a5eb-184f0ae65dfe",
   "metadata": {},
   "outputs": [],
   "source": [
    "#Calculate statistical measures including rate of return, mean, standard deviation, moving averages, and correlations\n",
    "start_date = \"1/2/13\"\n",
    "end_date = \"12/29/23\"\n",
    "stock_data_list = [\"NVDA\",\"META\",\"AMD\",\"AI\"]\n",
    "#import pandas_datareader as Datareader\n",
    "#import yfinance as yf\n",
    "\n",
    "#StockDataConsolidated.csv\n",
    "#for stocks in stock_data_list:\n",
    "    #stock_data = data.df[stocks][\"Adj Close\"]\n"
   ]
  },
  {
   "cell_type": "code",
   "execution_count": 62,
   "id": "d9533aab-16e9-42d6-8464-f0fe862a5e39",
   "metadata": {},
   "outputs": [
    {
     "name": "stdout",
     "output_type": "stream",
     "text": [
      "15671.337611464969\n",
      "1189.9416111537314\n",
      "5680.784470588234\n"
     ]
    },
    {
     "ename": "ValueError",
     "evalue": "can only convert an array of size 1 to a Python scalar",
     "output_type": "error",
     "traceback": [
      "\u001b[0;31m---------------------------------------------------------------------------\u001b[0m",
      "\u001b[0;31mValueError\u001b[0m                                Traceback (most recent call last)",
      "Cell \u001b[0;32mIn[62], line 10\u001b[0m\n\u001b[1;32m      8\u001b[0m close_value \u001b[38;5;241m=\u001b[39m data[(data[\u001b[38;5;124m'\u001b[39m\u001b[38;5;124mTicker\u001b[39m\u001b[38;5;124m'\u001b[39m] \u001b[38;5;241m==\u001b[39m stocks) \u001b[38;5;241m&\u001b[39m (data[\u001b[38;5;124m'\u001b[39m\u001b[38;5;124mDate\u001b[39m\u001b[38;5;124m'\u001b[39m] \u001b[38;5;241m==\u001b[39m end_date)][\u001b[38;5;124m\"\u001b[39m\u001b[38;5;124mClose\u001b[39m\u001b[38;5;124m\"\u001b[39m]\n\u001b[1;32m      9\u001b[0m \u001b[38;5;66;03m#print(stocks + \": \" + str(close_value))\u001b[39;00m\n\u001b[0;32m---> 10\u001b[0m pct_change \u001b[38;5;241m=\u001b[39m ((close_value\u001b[38;5;241m.\u001b[39mitem()\u001b[38;5;241m-\u001b[39m\u001b[43mopen_value\u001b[49m\u001b[38;5;241;43m.\u001b[39;49m\u001b[43mitem\u001b[49m\u001b[43m(\u001b[49m\u001b[43m)\u001b[49m)\u001b[38;5;241m/\u001b[39m(open_value\u001b[38;5;241m.\u001b[39mitem())) \u001b[38;5;241m*\u001b[39m\u001b[38;5;241m100\u001b[39m\n\u001b[1;32m     12\u001b[0m \u001b[38;5;28mprint\u001b[39m(pct_change)\n",
      "File \u001b[0;32m/opt/anaconda3/envs/dev/lib/python3.10/site-packages/pandas/core/base.py:418\u001b[0m, in \u001b[0;36mIndexOpsMixin.item\u001b[0;34m(self)\u001b[0m\n\u001b[1;32m    416\u001b[0m \u001b[38;5;28;01mif\u001b[39;00m \u001b[38;5;28mlen\u001b[39m(\u001b[38;5;28mself\u001b[39m) \u001b[38;5;241m==\u001b[39m \u001b[38;5;241m1\u001b[39m:\n\u001b[1;32m    417\u001b[0m     \u001b[38;5;28;01mreturn\u001b[39;00m \u001b[38;5;28mnext\u001b[39m(\u001b[38;5;28miter\u001b[39m(\u001b[38;5;28mself\u001b[39m))\n\u001b[0;32m--> 418\u001b[0m \u001b[38;5;28;01mraise\u001b[39;00m \u001b[38;5;167;01mValueError\u001b[39;00m(\u001b[38;5;124m\"\u001b[39m\u001b[38;5;124mcan only convert an array of size 1 to a Python scalar\u001b[39m\u001b[38;5;124m\"\u001b[39m)\n",
      "\u001b[0;31mValueError\u001b[0m: can only convert an array of size 1 to a Python scalar"
     ]
    }
   ],
   "source": [
    "data = stock_df\n",
    "#print(data.head())\n",
    "\n",
    "for stocks in stock_data_list:\n",
    "    #stock_data[stocks] = data[stocks, start_date, end_date][\"Adj Close\"]\n",
    "    open_value = data[(data['Ticker'] == stocks) & (data['Date'] == start_date)][\"Open\"]\n",
    "    #print(stocks + \": \" + str(open_value))\n",
    "    close_value = data[(data['Ticker'] == stocks) & (data['Date'] == end_date)][\"Close\"]\n",
    "    #print(stocks + \": \" + str(close_value))\n",
    "    pct_change = ((close_value.item()-open_value.item())/(open_value.item())) *100\n",
    "    \n",
    "    print(pct_change)"
   ]
  },
  {
   "cell_type": "code",
   "execution_count": 67,
   "id": "87204758-11ee-45b9-b910-5e66c7061f3b",
   "metadata": {},
   "outputs": [
    {
     "ename": "KeyError",
     "evalue": "('NVDA', '1/2/13', '12/29/23')",
     "output_type": "error",
     "traceback": [
      "\u001b[0;31m---------------------------------------------------------------------------\u001b[0m",
      "\u001b[0;31mKeyError\u001b[0m                                  Traceback (most recent call last)",
      "File \u001b[0;32m/opt/anaconda3/envs/dev/lib/python3.10/site-packages/pandas/core/indexes/base.py:3791\u001b[0m, in \u001b[0;36mIndex.get_loc\u001b[0;34m(self, key)\u001b[0m\n\u001b[1;32m   3790\u001b[0m \u001b[38;5;28;01mtry\u001b[39;00m:\n\u001b[0;32m-> 3791\u001b[0m     \u001b[38;5;28;01mreturn\u001b[39;00m \u001b[38;5;28;43mself\u001b[39;49m\u001b[38;5;241;43m.\u001b[39;49m\u001b[43m_engine\u001b[49m\u001b[38;5;241;43m.\u001b[39;49m\u001b[43mget_loc\u001b[49m\u001b[43m(\u001b[49m\u001b[43mcasted_key\u001b[49m\u001b[43m)\u001b[49m\n\u001b[1;32m   3792\u001b[0m \u001b[38;5;28;01mexcept\u001b[39;00m \u001b[38;5;167;01mKeyError\u001b[39;00m \u001b[38;5;28;01mas\u001b[39;00m err:\n",
      "File \u001b[0;32mindex.pyx:152\u001b[0m, in \u001b[0;36mpandas._libs.index.IndexEngine.get_loc\u001b[0;34m()\u001b[0m\n",
      "File \u001b[0;32mindex.pyx:181\u001b[0m, in \u001b[0;36mpandas._libs.index.IndexEngine.get_loc\u001b[0;34m()\u001b[0m\n",
      "File \u001b[0;32mpandas/_libs/hashtable_class_helper.pxi:7080\u001b[0m, in \u001b[0;36mpandas._libs.hashtable.PyObjectHashTable.get_item\u001b[0;34m()\u001b[0m\n",
      "File \u001b[0;32mpandas/_libs/hashtable_class_helper.pxi:7088\u001b[0m, in \u001b[0;36mpandas._libs.hashtable.PyObjectHashTable.get_item\u001b[0;34m()\u001b[0m\n",
      "\u001b[0;31mKeyError\u001b[0m: ('NVDA', '1/2/13', '12/29/23')",
      "\nThe above exception was the direct cause of the following exception:\n",
      "\u001b[0;31mKeyError\u001b[0m                                  Traceback (most recent call last)",
      "Cell \u001b[0;32mIn[67], line 2\u001b[0m\n\u001b[1;32m      1\u001b[0m \u001b[38;5;28;01mfor\u001b[39;00m stocks \u001b[38;5;129;01min\u001b[39;00m stock_data_list:\n\u001b[0;32m----> 2\u001b[0m     stock_data[stocks] \u001b[38;5;241m=\u001b[39m \u001b[43mdata\u001b[49m\u001b[43m[\u001b[49m\u001b[43mstocks\u001b[49m\u001b[43m,\u001b[49m\u001b[43m \u001b[49m\u001b[43mstart_date\u001b[49m\u001b[43m,\u001b[49m\u001b[43m \u001b[49m\u001b[43mend_date\u001b[49m\u001b[43m]\u001b[49m[\u001b[38;5;124m\"\u001b[39m\u001b[38;5;124mAdj Close\u001b[39m\u001b[38;5;124m\"\u001b[39m]\n\u001b[1;32m      3\u001b[0m     open_value \u001b[38;5;241m=\u001b[39m data[(data[\u001b[38;5;124m'\u001b[39m\u001b[38;5;124mTicker\u001b[39m\u001b[38;5;124m'\u001b[39m] \u001b[38;5;241m==\u001b[39m stocks) \u001b[38;5;241m&\u001b[39m (data[\u001b[38;5;124m'\u001b[39m\u001b[38;5;124mTicker\u001b[39m\u001b[38;5;124m'\u001b[39m] \u001b[38;5;241m==\u001b[39m start_date)][\u001b[38;5;124m\"\u001b[39m\u001b[38;5;124mOpen\u001b[39m\u001b[38;5;124m\"\u001b[39m]\n\u001b[1;32m      4\u001b[0m     \u001b[38;5;28mprint\u001b[39m(stocks \u001b[38;5;241m+\u001b[39m \u001b[38;5;124m\"\u001b[39m\u001b[38;5;124m: \u001b[39m\u001b[38;5;124m\"\u001b[39m \u001b[38;5;241m+\u001b[39m \u001b[38;5;28mstr\u001b[39m(open_value))\n",
      "File \u001b[0;32m/opt/anaconda3/envs/dev/lib/python3.10/site-packages/pandas/core/frame.py:3893\u001b[0m, in \u001b[0;36mDataFrame.__getitem__\u001b[0;34m(self, key)\u001b[0m\n\u001b[1;32m   3891\u001b[0m \u001b[38;5;28;01mif\u001b[39;00m \u001b[38;5;28mself\u001b[39m\u001b[38;5;241m.\u001b[39mcolumns\u001b[38;5;241m.\u001b[39mnlevels \u001b[38;5;241m>\u001b[39m \u001b[38;5;241m1\u001b[39m:\n\u001b[1;32m   3892\u001b[0m     \u001b[38;5;28;01mreturn\u001b[39;00m \u001b[38;5;28mself\u001b[39m\u001b[38;5;241m.\u001b[39m_getitem_multilevel(key)\n\u001b[0;32m-> 3893\u001b[0m indexer \u001b[38;5;241m=\u001b[39m \u001b[38;5;28;43mself\u001b[39;49m\u001b[38;5;241;43m.\u001b[39;49m\u001b[43mcolumns\u001b[49m\u001b[38;5;241;43m.\u001b[39;49m\u001b[43mget_loc\u001b[49m\u001b[43m(\u001b[49m\u001b[43mkey\u001b[49m\u001b[43m)\u001b[49m\n\u001b[1;32m   3894\u001b[0m \u001b[38;5;28;01mif\u001b[39;00m is_integer(indexer):\n\u001b[1;32m   3895\u001b[0m     indexer \u001b[38;5;241m=\u001b[39m [indexer]\n",
      "File \u001b[0;32m/opt/anaconda3/envs/dev/lib/python3.10/site-packages/pandas/core/indexes/base.py:3798\u001b[0m, in \u001b[0;36mIndex.get_loc\u001b[0;34m(self, key)\u001b[0m\n\u001b[1;32m   3793\u001b[0m     \u001b[38;5;28;01mif\u001b[39;00m \u001b[38;5;28misinstance\u001b[39m(casted_key, \u001b[38;5;28mslice\u001b[39m) \u001b[38;5;129;01mor\u001b[39;00m (\n\u001b[1;32m   3794\u001b[0m         \u001b[38;5;28misinstance\u001b[39m(casted_key, abc\u001b[38;5;241m.\u001b[39mIterable)\n\u001b[1;32m   3795\u001b[0m         \u001b[38;5;129;01mand\u001b[39;00m \u001b[38;5;28many\u001b[39m(\u001b[38;5;28misinstance\u001b[39m(x, \u001b[38;5;28mslice\u001b[39m) \u001b[38;5;28;01mfor\u001b[39;00m x \u001b[38;5;129;01min\u001b[39;00m casted_key)\n\u001b[1;32m   3796\u001b[0m     ):\n\u001b[1;32m   3797\u001b[0m         \u001b[38;5;28;01mraise\u001b[39;00m InvalidIndexError(key)\n\u001b[0;32m-> 3798\u001b[0m     \u001b[38;5;28;01mraise\u001b[39;00m \u001b[38;5;167;01mKeyError\u001b[39;00m(key) \u001b[38;5;28;01mfrom\u001b[39;00m \u001b[38;5;21;01merr\u001b[39;00m\n\u001b[1;32m   3799\u001b[0m \u001b[38;5;28;01mexcept\u001b[39;00m \u001b[38;5;167;01mTypeError\u001b[39;00m:\n\u001b[1;32m   3800\u001b[0m     \u001b[38;5;66;03m# If we have a listlike key, _check_indexing_error will raise\u001b[39;00m\n\u001b[1;32m   3801\u001b[0m     \u001b[38;5;66;03m#  InvalidIndexError. Otherwise we fall through and re-raise\u001b[39;00m\n\u001b[1;32m   3802\u001b[0m     \u001b[38;5;66;03m#  the TypeError.\u001b[39;00m\n\u001b[1;32m   3803\u001b[0m     \u001b[38;5;28mself\u001b[39m\u001b[38;5;241m.\u001b[39m_check_indexing_error(key)\n",
      "\u001b[0;31mKeyError\u001b[0m: ('NVDA', '1/2/13', '12/29/23')"
     ]
    }
   ],
   "source": [
    "for stocks in stock_data_list:\n",
    "    stock_data[stocks] = data[stocks, start_date, end_date][\"Adj Close\"]\n",
    "    open_value = data[(data['Ticker'] == stocks) & (data['Ticker'] == start_date)][\"Open\"]\n",
    "    print(stocks + \": \" + str(open_value))\n",
    "    close_value = data[(data['Ticker'] == stocks) & (data['Ticker'] == end_date)][\"Close\"]\n",
    "    print(stocks + \": \" + str(close_value))\n",
    "    pct_change = ((close_value.item()-open_value.item())/(open_value.item())) *100\n",
    "    \n",
    "    print(pct_change)"
   ]
  },
  {
   "cell_type": "code",
   "execution_count": 66,
   "id": "4f2f683e-cf64-440a-97b4-520375b7d375",
   "metadata": {},
   "outputs": [
    {
     "ename": "TypeError",
     "evalue": "'float' object is not callable",
     "output_type": "error",
     "traceback": [
      "\u001b[0;31m---------------------------------------------------------------------------\u001b[0m",
      "\u001b[0;31mTypeError\u001b[0m                                 Traceback (most recent call last)",
      "Cell \u001b[0;32mIn[66], line 2\u001b[0m\n\u001b[1;32m      1\u001b[0m \u001b[38;5;66;03m#Rate of Return\u001b[39;00m\n\u001b[0;32m----> 2\u001b[0m returns \u001b[38;5;241m=\u001b[39m \u001b[43mpct_change\u001b[49m\u001b[43m(\u001b[49m\u001b[43m)\u001b[49m\u001b[38;5;241m.\u001b[39mdropna()\n",
      "\u001b[0;31mTypeError\u001b[0m: 'float' object is not callable"
     ]
    }
   ],
   "source": [
    "#Rate of Return\n",
    "returns = pct_change().dropna()"
   ]
  },
  {
   "cell_type": "code",
   "execution_count": null,
   "id": "8b7571e9-7d4f-4a23-8e47-96275dba365b",
   "metadata": {},
   "outputs": [],
   "source": [
    "# mean\n",
    "number of trading days = 252\n",
    "mean = returns.mean()*252\n",
    "print mean()"
   ]
  },
  {
   "cell_type": "code",
   "execution_count": null,
   "id": "bf403909-a588-41c2-abef-b8235f526c01",
   "metadata": {},
   "outputs": [],
   "source": [
    "#Standard Deviation\n",
    "std_stocks = returns.std()*np.sqrt(252)\n",
    "print std_stocks()"
   ]
  },
  {
   "cell_type": "code",
   "execution_count": 9,
   "id": "4707931a-4657-4190-99b5-28ad5205da17",
   "metadata": {},
   "outputs": [
    {
     "ename": "SyntaxError",
     "evalue": "closing parenthesis '}' does not match opening parenthesis '[' (466681087.py, line 10)",
     "output_type": "error",
     "traceback": [
      "\u001b[0;36m  Cell \u001b[0;32mIn[9], line 10\u001b[0;36m\u001b[0m\n\u001b[0;31m    NVDA[column_name} = NVDA[\"Adj Close\"].rolling (window = ma, center = False). mean()\u001b[0m\n\u001b[0m                    ^\u001b[0m\n\u001b[0;31mSyntaxError\u001b[0m\u001b[0;31m:\u001b[0m closing parenthesis '}' does not match opening parenthesis '['\n"
     ]
    }
   ],
   "source": [
    "#Moving Averages(ma)\n",
    "ma_50 = stock_data.rolling(window=50).mean()\n",
    "ma_200 = stock_data.rolling(window=200).mean()\n",
    "\n",
    "#or ma in a day\n",
    "ma_day = [10, 20, 50]\n",
    "column_name = \"MA for %s days\" %(str(ma))\n",
    "\n",
    "[\"NVDA\",\"META\",\"AMD\",\"AI\"]\n",
    "NVDA[column_name} = NVDA[\"Adj Close\"].rolling (window = ma, center = False). mean()\n",
    "META[column_name} = META[\"Adj Close\"].rolling (window = ma, center = False). mean()\n",
    "AMD[column_name} = AMD[\"Adj Close\"].rolling (window = ma, center = False). mean()\n",
    "AI[column_name} = AI[\"Adj Close\"].rolling (window = ma, center = False). mean()"
   ]
  },
  {
   "cell_type": "code",
   "execution_count": null,
   "id": "6e1abafc-ab81-47b7-abfc-ed39feaf1125",
   "metadata": {},
   "outputs": [],
   "source": [
    "#Correlation\n",
    "correlation = returns.corr()"
   ]
  },
  {
   "cell_type": "code",
   "execution_count": 35,
   "id": "a3552c34-2144-4818-ac63-41965c512df3",
   "metadata": {},
   "outputs": [],
   "source": [
    "# What is the change in stock prices over the period of ten years? \n",
    "\n"
   ]
  },
  {
   "cell_type": "code",
   "execution_count": null,
   "id": "d92254c3-f26d-42a9-861b-72eea32f6c33",
   "metadata": {},
   "outputs": [],
   "source": [
    "# What trends and patterns do these stocks have in common?\n",
    "\n"
   ]
  },
  {
   "cell_type": "code",
   "execution_count": null,
   "id": "d4f44d28-0bec-4d64-aa38-c005a41538d3",
   "metadata": {},
   "outputs": [],
   "source": [
    "# What is the annual rate of return of each stock?\n",
    "\n"
   ]
  },
  {
   "cell_type": "markdown",
   "id": "8ff15389-67e2-4707-8044-cf22be53d4b9",
   "metadata": {},
   "source": [
    "# Comparative Analysis"
   ]
  },
  {
   "cell_type": "code",
   "execution_count": 4,
   "id": "9d99d407-d73d-49fe-a0c8-1f38fa77a44c",
   "metadata": {},
   "outputs": [],
   "source": [
    "#Creating Data Frame for each ticker\n",
    "nvda_stock_df =  stock_df[stock_df[\"Ticker\"]==\"NVDA\"].reset_index(drop=True)\n",
    "meta_stock_df =  stock_df[stock_df[\"Ticker\"]==\"META\"].reset_index(drop=True)\n",
    "amd_stock_df =  stock_df[stock_df[\"Ticker\"]==\"AMD\"].reset_index(drop=True)\n",
    "ai_stock_df =  stock_df[stock_df[\"Ticker\"]==\"AI\"].reset_index(drop=True)"
   ]
  },
  {
   "cell_type": "code",
   "execution_count": 5,
   "id": "caf6a3a1-a88c-4521-a825-6a7f6423a72e",
   "metadata": {},
   "outputs": [],
   "source": [
    "#Calculate moving averages for each stock\n",
    "#Moving_Average_Days=[10,50, 200]\n",
    "#there are 252 trading days in a year.\n",
    "nvda_stock_df['Rolling_Avg_10_days'] = nvda_stock_df['Close'].rolling(window=10, center=False).mean()\n",
    "nvda_stock_df['Rolling_Avg_50_days'] = nvda_stock_df['Close'].rolling(window=50, center=False).mean()\n",
    "nvda_stock_df['Rolling_Avg_200_days'] = nvda_stock_df['Close'].rolling(window=200, center=False).mean()\n"
   ]
  },
  {
   "cell_type": "code",
   "execution_count": 16,
   "id": "e27e119c-0775-4280-a742-726e1dce4cd4",
   "metadata": {},
   "outputs": [
    {
     "ename": "NameError",
     "evalue": "name 'NVDA' is not defined",
     "output_type": "error",
     "traceback": [
      "\u001b[0;31m---------------------------------------------------------------------------\u001b[0m",
      "\u001b[0;31mNameError\u001b[0m                                 Traceback (most recent call last)",
      "Cell \u001b[0;32mIn[16], line 2\u001b[0m\n\u001b[1;32m      1\u001b[0m \u001b[38;5;66;03m#combine all dat into a single DataFrame for plotting\u001b[39;00m\n\u001b[0;32m----> 2\u001b[0m combined_df \u001b[38;5;241m=\u001b[39m pd\u001b[38;5;241m.\u001b[39mconcat(NVDA[[\u001b[38;5;124m\"\u001b[39m\u001b[38;5;124mDate\u001b[39m\u001b[38;5;124m\"\u001b[39m,\u001b[38;5;124m\"\u001b[39m\u001b[38;5;124mClose\u001b[39m\u001b[38;5;124m\"\u001b[39m,\u001b[38;5;124m\"\u001b[39m\u001b[38;5;124mMA_1yr\u001b[39m\u001b[38;5;124m\"\u001b[39m,\u001b[38;5;124m\"\u001b[39m\u001b[38;5;124mMA_3yr\u001b[39m\u001b[38;5;124m\"\u001b[39m,\u001b[38;5;124m\"\u001b[39m\u001b[38;5;124mMA_5yr\u001b[39m\u001b[38;5;124m\"\u001b[39m,\u001b[38;5;124m\"\u001b[39m\u001b[38;5;124mMA_10yr\u001b[39m\u001b[38;5;124m\"\u001b[39m]],\n\u001b[1;32m      3\u001b[0m                         META[[\u001b[38;5;124m\"\u001b[39m\u001b[38;5;124mDate\u001b[39m\u001b[38;5;124m\"\u001b[39m,\u001b[38;5;124m\"\u001b[39m\u001b[38;5;124mClose\u001b[39m\u001b[38;5;124m\"\u001b[39m,\u001b[38;5;124m\"\u001b[39m\u001b[38;5;124mMA_1yr\u001b[39m\u001b[38;5;124m\"\u001b[39m,\u001b[38;5;124m\"\u001b[39m\u001b[38;5;124mMA_3yr\u001b[39m\u001b[38;5;124m\"\u001b[39m,\u001b[38;5;124m\"\u001b[39m\u001b[38;5;124mMA_5yr\u001b[39m\u001b[38;5;124m\"\u001b[39m,\u001b[38;5;124m\"\u001b[39m\u001b[38;5;124mMA_10yr\u001b[39m\u001b[38;5;124m\"\u001b[39m]],\n\u001b[1;32m      4\u001b[0m                         AMD[[\u001b[38;5;124m\"\u001b[39m\u001b[38;5;124mDate\u001b[39m\u001b[38;5;124m\"\u001b[39m,\u001b[38;5;124m\"\u001b[39m\u001b[38;5;124mClose\u001b[39m\u001b[38;5;124m\"\u001b[39m,\u001b[38;5;124m\"\u001b[39m\u001b[38;5;124mMA_1yr\u001b[39m\u001b[38;5;124m\"\u001b[39m,\u001b[38;5;124m\"\u001b[39m\u001b[38;5;124mMA_3yr\u001b[39m\u001b[38;5;124m\"\u001b[39m,\u001b[38;5;124m\"\u001b[39m\u001b[38;5;124mMA_5yr\u001b[39m\u001b[38;5;124m\"\u001b[39m,\u001b[38;5;124m\"\u001b[39m\u001b[38;5;124mMA_10yr\u001b[39m\u001b[38;5;124m\"\u001b[39m]],\n\u001b[1;32m      5\u001b[0m                         AI[[\u001b[38;5;124m\"\u001b[39m\u001b[38;5;124mDate\u001b[39m\u001b[38;5;124m\"\u001b[39m,\u001b[38;5;124m\"\u001b[39m\u001b[38;5;124mClose\u001b[39m\u001b[38;5;124m\"\u001b[39m,\u001b[38;5;124m\"\u001b[39m\u001b[38;5;124mMA_1yr\u001b[39m\u001b[38;5;124m\"\u001b[39m,\u001b[38;5;124m\"\u001b[39m\u001b[38;5;124mMA_3yr\u001b[39m\u001b[38;5;124m\"\u001b[39m,\u001b[38;5;124m\"\u001b[39m\u001b[38;5;124mMA_5yr\u001b[39m\u001b[38;5;124m\"\u001b[39m,\u001b[38;5;124m\"\u001b[39m\u001b[38;5;124mMA_10yr\u001b[39m\u001b[38;5;124m\"\u001b[39m]],\n\u001b[1;32m      6\u001b[0m                        keys \u001b[38;5;241m=\u001b[39m [\u001b[38;5;124m\"\u001b[39m\u001b[38;5;124mNVDA\u001b[39m\u001b[38;5;124m\"\u001b[39m,\u001b[38;5;124m\"\u001b[39m\u001b[38;5;124mMETA\u001b[39m\u001b[38;5;124m\"\u001b[39m,\u001b[38;5;124m\"\u001b[39m\u001b[38;5;124mAMD\u001b[39m\u001b[38;5;124m\"\u001b[39m,\u001b[38;5;124m\"\u001b[39m\u001b[38;5;124mAI\u001b[39m\u001b[38;5;124m\"\u001b[39m],\n\u001b[1;32m      7\u001b[0m                        axis\u001b[38;5;241m=\u001b[39m\u001b[38;5;241m1\u001b[39m)\n",
      "\u001b[0;31mNameError\u001b[0m: name 'NVDA' is not defined"
     ]
    }
   ],
   "source": [
    "#combine all dat into a single DataFrame for plotting\n",
    "combined_df = pd.concat(NVDA[[\"Date\",\"Close\",\"MA_1yr\",\"MA_3yr\",\"MA_5yr\",\"MA_10yr\"]],\n",
    "                        META[[\"Date\",\"Close\",\"MA_1yr\",\"MA_3yr\",\"MA_5yr\",\"MA_10yr\"]],\n",
    "                        AMD[[\"Date\",\"Close\",\"MA_1yr\",\"MA_3yr\",\"MA_5yr\",\"MA_10yr\"]],\n",
    "                        AI[[\"Date\",\"Close\",\"MA_1yr\",\"MA_3yr\",\"MA_5yr\",\"MA_10yr\"]],\n",
    "                       keys = [\"NVDA\",\"META\",\"AMD\",\"AI\"],\n",
    "                       axis=1)"
   ]
  },
  {
   "cell_type": "code",
   "execution_count": null,
   "id": "1e4cbacd-7d7a-4eeb-b206-c4795db1e287",
   "metadata": {},
   "outputs": [],
   "source": [
    "#plotting\n",
    "fig,axes = plt.subplots(4, 1, figsize=(12, 16),\n",
    "sharex=True)\n",
    "for i, (stock, data) in enumerate(combined _df.iteritems()):\n",
    "     ax = axes[i]\n",
    "     data.plot(y=[\"Close\",\"MA_1yr\",\"MA_3yr\",\"MA_ 5yr\",\"MA_10yr\"], ax=ах)\n",
    "     ax.set_title(stock[1])\n",
    "     ax. legend([\"Close\",\"1yr MA\",\"3yr MA\",\"5yr MA\",\"10yr MA\"]) \n",
    "     ax.grid (True)\n",
    "     ax.set_xlabel(\"Date\")\n",
    "     ax.set_ylabel(\"Price\")\n",
    "plt.tight_layout()\n",
    "plt.show()\n",
    "                        "
   ]
  },
  {
   "cell_type": "code",
   "execution_count": 95,
   "id": "9a08b14c-3dac-437c-ae10-8cb9353f7c3c",
   "metadata": {},
   "outputs": [
    {
     "ename": "NameError",
     "evalue": "name 'df' is not defined",
     "output_type": "error",
     "traceback": [
      "\u001b[0;31m---------------------------------------------------------------------------\u001b[0m",
      "\u001b[0;31mNameError\u001b[0m                                 Traceback (most recent call last)",
      "Cell \u001b[0;32mIn[95], line 2\u001b[0m\n\u001b[1;32m      1\u001b[0m \u001b[38;5;66;03m#calculate the yearly returns for each stock\u001b[39;00m\n\u001b[0;32m----> 2\u001b[0m NVDA[\u001b[38;5;124m\"\u001b[39m\u001b[38;5;124mYear\u001b[39m\u001b[38;5;124m\"\u001b[39m] \u001b[38;5;241m=\u001b[39m df[\u001b[38;5;124m\"\u001b[39m\u001b[38;5;124mDate\u001b[39m\u001b[38;5;124m\"\u001b[39m]\u001b[38;5;241m.\u001b[39mdt\u001b[38;5;241m.\u001b[39myear\n\u001b[1;32m      3\u001b[0m NVDA[\u001b[38;5;124m\"\u001b[39m\u001b[38;5;124myearly_return\u001b[39m\u001b[38;5;124m\"\u001b[39m] \u001b[38;5;241m=\u001b[39m NVDA[\u001b[38;5;124m\"\u001b[39m\u001b[38;5;124mClose\u001b[39m\u001b[38;5;124m\"\u001b[39m]\u001b[38;5;241m.\u001b[39mpct_change()\u001b[38;5;241m*\u001b[39m\u001b[38;5;241m100\u001b[39m\n\u001b[1;32m      4\u001b[0m NVDA[\u001b[38;5;124m\"\u001b[39m\u001b[38;5;124mMA_yearly_return_1yr\u001b[39m\u001b[38;5;124m\"\u001b[39m] \u001b[38;5;241m=\u001b[39m NVDA[\u001b[38;5;124m\"\u001b[39m\u001b[38;5;124myearly_return\u001b[39m\u001b[38;5;124m\"\u001b[39m]\u001b[38;5;241m.\u001b[39mrolling(window\u001b[38;5;241m=\u001b[39m\u001b[38;5;241m252\u001b[39m)\u001b[38;5;241m.\u001b[39mmean()\n",
      "\u001b[0;31mNameError\u001b[0m: name 'df' is not defined"
     ]
    }
   ],
   "source": [
    "#calculate the yearly returns for each stock\n",
    "NVDA[\"Year\"] = stock_df[\"Date\"].dt.year\n",
    "NVDA[\"yearly_return\"] = NVDA[\"Close\"].pct_change()*100\n",
    "NVDA[\"MA_yearly_return_1yr\"] = NVDA[\"yearly_return\"].rolling(window=252).mean()\n",
    "NVDA[\"MA_yearly_return_3yr\"] = NVDA[\"yearly_return\"].rolling(window=252*3).mean()\n",
    "NVDA[\"MA_yearly_return_5yr\"] = NVDA[\"yearly_return\"].rolling(window=252*5).mean()\n",
    "NVDA[\"MA_yearly_return_10yr\"] = NVDA[\"yearly_return\"].rolling(window=252*10).mean()\n",
    "\n",
    "META[\"Year\"] = df[\"Date\"].dt.year\n",
    "META[\"yearly_return\"] = META[\"Close\"].pct_change()*100\n",
    "META[\"MA_yearly_return_1yr\"] =META[\"yearly_return\"].rolling(window=252).mean()\n",
    "META[\"MA_yearly_return_3yr\"] = META[\"yearly_return\"].rolling(window=252*3).mean()\n",
    "META[\"MA_yearly_return_5yr\"] = META[\"yearly_return\"].rolling(window=252*5).mean()\n",
    "META[\"MA_yearly_return_10yr\"] = META[\"yearly_return\"].rolling(window=252*10).mean()\n",
    "\n",
    "AMD[\"Year\"] = df[\"Date\"].dt.year\n",
    "AMD[\"yearly_return\"] = AMD[\"Close\"].pct_change()*100\n",
    "AMD[\"MA_yearly_return_1yr\"] =AMD[\"yearly_return\"].rolling(window=252).mean()\n",
    "AMD[\"MA_yearly_return_3yr\"] = AMD[\"yearly_return\"].rolling(window=252*3).mean()\n",
    "AMD[\"MA_yearly_return_5yr\"] = AMD[\"yearly_return\"].rolling(window=252*5).mean()\n",
    "AMD[\"MA_yearly_return_10yr\"] = AMD[\"yearly_return\"].rolling(window=252*10).mean()\n",
    "\n",
    "AI[\"Year\"] = df[\"Date\"].dt.year\n",
    "AI[\"yearly_return\"] = AI[\"Close\"].pct_change()*100\n",
    "AI[\"MA_yearly_return_1yr\"] =AI[\"yearly_return\"].rolling(window=252).mean()\n",
    "AI[\"MA_yearly_return_3yr\"] = AI[\"yearly_return\"].rolling(window=252*3).mean()\n",
    "AI[\"MA_yearly_return_5yr\"] = AI[\"yearly_return\"].rolling(window=252*5).mean()\n",
    "AI[\"MA_yearly_return_10yr\"] = AI[\"yearly_return\"].rolling(window=252*10).mean()\n"
   ]
  },
  {
   "cell_type": "code",
   "execution_count": null,
   "id": "c0f3be0b-7745-4bc4-94c4-14a3e951059c",
   "metadata": {},
   "outputs": [],
   "source": [
    "#Combine all data into a single DataFrame for plotting\n",
    "combined_returns_df = pd.concat([nvda_df[[\"Year\",\"MA_Yearly_Return_1yr\",\"MA_ Yearly_Return_3yr\",\n",
    "                                           \"MA_Yearly_Return_5yr\",\"MA_Yearly_Return_10yr\"]],\n",
    "                                  meta_df[[\"Year\",\"MA_Yearly_Return_1yr\",\"MA_Yearly_Return_3yr\",\n",
    "                                           \"MA_Yearly_Return_5yr\",\"MA_Yearly_Return_10yr\"]],\n",
    "                                  amd_df[[\"Year\",\"MA_Yearly_Return_1yr\",\"MA_Yearly_Return_3yr\",\n",
    "                                          \"MA_Yearly_Return_5yr\",\"MA_Yearly_Return_10yr\"]],\n",
    "                                   ai_df[[\"Year\",\"MA_Yearly_Return_1yr\",\"MA_Yearly_Return_3yr\",\n",
    "                                           \"MA_Yearly_Return_5yr\",\"MA_Yearly_Return_10yr\"]]]\n",
    "                                 keys=[\"NVDA\",\"META\",\"AMD\",\"AI\"],\n",
    "                                 axis=1)"
   ]
  },
  {
   "cell_type": "code",
   "execution_count": null,
   "id": "abfeb261-743c-4643-9be9-14c485ceb8e3",
   "metadata": {},
   "outputs": [],
   "source": [
    "#Correlation and plotting\n",
    "fig, axes = pt.subplots(4, 1, figsize=(12, 16),sharex=True)\n",
    "for i, (stock, data) in enumerate(combined_returns_df.iteritems):\n",
    "     ax = axes|i]\n",
    "     data.plot(x='Year',y=[\"MA_Yearly_Return_1yr\",\"MA_Yearly_Return_3yr\",\"MA_Yearly_Return_5yr\",\"MA_Yearly_Return_10yr\"], ax=ax)\n",
    "     ax.set_title(stock[1])\n",
    "     ax. legend([\"1yr MA\",\"3yr MA\",\"5yr MA\",\"10yr MA\"])\n",
    "     ax.grid (True)\n",
    "     ax.set_xlabel(Year)\n",
    "     ax.set_Ylabel(Average Yearly Return (%))\n",
    "plt.tight_layout()\n",
    "plt.show"
   ]
  },
  {
   "cell_type": "code",
   "execution_count": null,
   "id": "3683fc75-3203-4a2d-b424-604698902596",
   "metadata": {},
   "outputs": [],
   "source": [
    "# Combine yearly returns into a single DataFrame\n",
    "yearly_returns_df = pd.concat([nvda_df[[\"Year\",\"Yearly _Return\"]],\n",
    "                               meta_ df[[\"Year\", \"Yearly_Return\"]],\n",
    "                               amd_df[[\"Year\",\"Yearly_Return\"]],\n",
    "                               ai_df[[\"Year\", \"Yearly_Return\"]]],\n",
    "                               keys=[\"NVDA\",\"META\",\"AMD\",\"AI\"]\n",
    "                              axis=1\n",
    "                              )"
   ]
  },
  {
   "cell_type": "code",
   "execution_count": null,
   "id": "c198c2e3-e9c7-4590-b1bc-52dd26be00ac",
   "metadata": {},
   "outputs": [],
   "source": [
    "#calculate the correlation matrix\n",
    "correlation-matrix=yearly_returns_df[\"yearly_return\"].corr()\n",
    "\n",
    "#display the correlation matrix\n",
    "print(\"Correlation Matrix :\")\n",
    "print(correlation_matrix)"
   ]
  },
  {
   "cell_type": "code",
   "execution_count": null,
   "id": "bc75991f-5eba-4344-973a-2326ec3dcef7",
   "metadata": {},
   "outputs": [],
   "source": []
  },
  {
   "cell_type": "markdown",
   "id": "ac23101f-b02b-4e33-bf2b-734d1dd8357f",
   "metadata": {},
   "source": [
    "# Measure of Risk"
   ]
  },
  {
   "cell_type": "code",
   "execution_count": null,
   "id": "ff6ff105-3b8a-40f8-947e-e5c2375752e1",
   "metadata": {},
   "outputs": [],
   "source": []
  },
  {
   "cell_type": "code",
   "execution_count": null,
   "id": "2cd0bdaa-651c-446f-adb5-1fbda82635cd",
   "metadata": {},
   "outputs": [],
   "source": []
  }
 ],
 "metadata": {
  "kernelspec": {
   "display_name": "Python 3 (ipykernel)",
   "language": "python",
   "name": "python3"
  },
  "language_info": {
   "codemirror_mode": {
    "name": "ipython",
    "version": 3
   },
   "file_extension": ".py",
   "mimetype": "text/x-python",
   "name": "python",
   "nbconvert_exporter": "python",
   "pygments_lexer": "ipython3",
   "version": "3.10.13"
  }
 },
 "nbformat": 4,
 "nbformat_minor": 5
}
