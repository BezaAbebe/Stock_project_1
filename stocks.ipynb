{
 "cells": [
  {
   "cell_type": "code",
   "execution_count": 1,
   "id": "ace07697-51b6-4838-887c-019072e55332",
   "metadata": {},
   "outputs": [],
   "source": [
    "import pandas as pd\n",
    "import numpy as np\n",
    "import scipy.stats as stats\n",
    "import matplotlib as plt\n",
    "import os"
   ]
  },
  {
   "cell_type": "code",
   "execution_count": 2,
   "id": "feb0569d-bf97-4a7c-a9c6-2ffdd45e2354",
   "metadata": {},
   "outputs": [],
   "source": [
    "#creating a path\n",
    "file_path =(\"Resources/StockDataConsolidated.csv\")"
   ]
  },
  {
   "cell_type": "code",
   "execution_count": 3,
   "id": "79b17cd3-6d6f-4b72-b799-acc66cc903b0",
   "metadata": {},
   "outputs": [
    {
     "data": {
      "text/html": [
       "<div>\n",
       "<style scoped>\n",
       "    .dataframe tbody tr th:only-of-type {\n",
       "        vertical-align: middle;\n",
       "    }\n",
       "\n",
       "    .dataframe tbody tr th {\n",
       "        vertical-align: top;\n",
       "    }\n",
       "\n",
       "    .dataframe thead th {\n",
       "        text-align: right;\n",
       "    }\n",
       "</style>\n",
       "<table border=\"1\" class=\"dataframe\">\n",
       "  <thead>\n",
       "    <tr style=\"text-align: right;\">\n",
       "      <th></th>\n",
       "      <th>Ticker</th>\n",
       "      <th>Date</th>\n",
       "      <th>Open</th>\n",
       "      <th>High</th>\n",
       "      <th>Low</th>\n",
       "      <th>Close</th>\n",
       "      <th>Adj Close</th>\n",
       "      <th>Volume</th>\n",
       "    </tr>\n",
       "  </thead>\n",
       "  <tbody>\n",
       "    <tr>\n",
       "      <th>0</th>\n",
       "      <td>NVDA</td>\n",
       "      <td>1/2/13</td>\n",
       "      <td>3.140000</td>\n",
       "      <td>3.182500</td>\n",
       "      <td>3.127500</td>\n",
       "      <td>3.180000</td>\n",
       "      <td>2.935840</td>\n",
       "      <td>47883600</td>\n",
       "    </tr>\n",
       "    <tr>\n",
       "      <th>1</th>\n",
       "      <td>NVDA</td>\n",
       "      <td>1/3/13</td>\n",
       "      <td>3.180000</td>\n",
       "      <td>3.217500</td>\n",
       "      <td>3.145000</td>\n",
       "      <td>3.182500</td>\n",
       "      <td>2.938147</td>\n",
       "      <td>29888800</td>\n",
       "    </tr>\n",
       "    <tr>\n",
       "      <th>2</th>\n",
       "      <td>NVDA</td>\n",
       "      <td>1/4/13</td>\n",
       "      <td>3.187500</td>\n",
       "      <td>3.297500</td>\n",
       "      <td>3.177500</td>\n",
       "      <td>3.287500</td>\n",
       "      <td>3.035086</td>\n",
       "      <td>52496800</td>\n",
       "    </tr>\n",
       "    <tr>\n",
       "      <th>3</th>\n",
       "      <td>NVDA</td>\n",
       "      <td>1/7/13</td>\n",
       "      <td>3.285000</td>\n",
       "      <td>3.295000</td>\n",
       "      <td>3.170000</td>\n",
       "      <td>3.192500</td>\n",
       "      <td>2.947381</td>\n",
       "      <td>61073200</td>\n",
       "    </tr>\n",
       "    <tr>\n",
       "      <th>4</th>\n",
       "      <td>NVDA</td>\n",
       "      <td>1/8/13</td>\n",
       "      <td>3.200000</td>\n",
       "      <td>3.210000</td>\n",
       "      <td>3.100000</td>\n",
       "      <td>3.122500</td>\n",
       "      <td>2.882755</td>\n",
       "      <td>46642400</td>\n",
       "    </tr>\n",
       "    <tr>\n",
       "      <th>...</th>\n",
       "      <td>...</td>\n",
       "      <td>...</td>\n",
       "      <td>...</td>\n",
       "      <td>...</td>\n",
       "      <td>...</td>\n",
       "      <td>...</td>\n",
       "      <td>...</td>\n",
       "      <td>...</td>\n",
       "    </tr>\n",
       "    <tr>\n",
       "      <th>8549</th>\n",
       "      <td>AI</td>\n",
       "      <td>12/22/23</td>\n",
       "      <td>29.700001</td>\n",
       "      <td>29.950001</td>\n",
       "      <td>28.420000</td>\n",
       "      <td>28.740000</td>\n",
       "      <td>28.740000</td>\n",
       "      <td>9783900</td>\n",
       "    </tr>\n",
       "    <tr>\n",
       "      <th>8550</th>\n",
       "      <td>AI</td>\n",
       "      <td>12/26/23</td>\n",
       "      <td>28.900000</td>\n",
       "      <td>29.889999</td>\n",
       "      <td>28.659000</td>\n",
       "      <td>29.469999</td>\n",
       "      <td>29.469999</td>\n",
       "      <td>7758200</td>\n",
       "    </tr>\n",
       "    <tr>\n",
       "      <th>8551</th>\n",
       "      <td>AI</td>\n",
       "      <td>12/27/23</td>\n",
       "      <td>29.709999</td>\n",
       "      <td>30.459999</td>\n",
       "      <td>29.400000</td>\n",
       "      <td>30.049999</td>\n",
       "      <td>30.049999</td>\n",
       "      <td>9300300</td>\n",
       "    </tr>\n",
       "    <tr>\n",
       "      <th>8552</th>\n",
       "      <td>AI</td>\n",
       "      <td>12/28/23</td>\n",
       "      <td>30.000000</td>\n",
       "      <td>31.129999</td>\n",
       "      <td>29.790001</td>\n",
       "      <td>30.230000</td>\n",
       "      <td>30.230000</td>\n",
       "      <td>8979400</td>\n",
       "    </tr>\n",
       "    <tr>\n",
       "      <th>8553</th>\n",
       "      <td>AI</td>\n",
       "      <td>12/29/23</td>\n",
       "      <td>30.180000</td>\n",
       "      <td>30.200001</td>\n",
       "      <td>28.559999</td>\n",
       "      <td>28.709999</td>\n",
       "      <td>28.709999</td>\n",
       "      <td>10659600</td>\n",
       "    </tr>\n",
       "  </tbody>\n",
       "</table>\n",
       "<p>8554 rows × 8 columns</p>\n",
       "</div>"
      ],
      "text/plain": [
       "     Ticker      Date       Open       High        Low      Close  Adj Close  \\\n",
       "0      NVDA    1/2/13   3.140000   3.182500   3.127500   3.180000   2.935840   \n",
       "1      NVDA    1/3/13   3.180000   3.217500   3.145000   3.182500   2.938147   \n",
       "2      NVDA    1/4/13   3.187500   3.297500   3.177500   3.287500   3.035086   \n",
       "3      NVDA    1/7/13   3.285000   3.295000   3.170000   3.192500   2.947381   \n",
       "4      NVDA    1/8/13   3.200000   3.210000   3.100000   3.122500   2.882755   \n",
       "...     ...       ...        ...        ...        ...        ...        ...   \n",
       "8549     AI  12/22/23  29.700001  29.950001  28.420000  28.740000  28.740000   \n",
       "8550     AI  12/26/23  28.900000  29.889999  28.659000  29.469999  29.469999   \n",
       "8551     AI  12/27/23  29.709999  30.459999  29.400000  30.049999  30.049999   \n",
       "8552     AI  12/28/23  30.000000  31.129999  29.790001  30.230000  30.230000   \n",
       "8553     AI  12/29/23  30.180000  30.200001  28.559999  28.709999  28.709999   \n",
       "\n",
       "        Volume  \n",
       "0     47883600  \n",
       "1     29888800  \n",
       "2     52496800  \n",
       "3     61073200  \n",
       "4     46642400  \n",
       "...        ...  \n",
       "8549   9783900  \n",
       "8550   7758200  \n",
       "8551   9300300  \n",
       "8552   8979400  \n",
       "8553  10659600  \n",
       "\n",
       "[8554 rows x 8 columns]"
      ]
     },
     "execution_count": 3,
     "metadata": {},
     "output_type": "execute_result"
    }
   ],
   "source": [
    "#Reading the csv file\n",
    "stock_df = pd.read_csv(file_path)\n",
    "stock_df"
   ]
  },
  {
   "cell_type": "code",
<<<<<<< HEAD
   "execution_count": 4,
=======
   "execution_count": 24,
>>>>>>> refs/remotes/origin/main
   "id": "c466f3f1-b7f5-4fc4-aa31-e999b03f2edb",
   "metadata": {},
   "outputs": [
    {
     "ename": "NameError",
     "evalue": "name 'df' is not defined",
     "output_type": "error",
     "traceback": [
      "\u001b[0;31m---------------------------------------------------------------------------\u001b[0m",
      "\u001b[0;31mNameError\u001b[0m                                 Traceback (most recent call last)",
      "Cell \u001b[0;32mIn[4], line 4\u001b[0m\n\u001b[1;32m      2\u001b[0m stock_data_list \u001b[38;5;241m=\u001b[39m [\u001b[38;5;124m'\u001b[39m\u001b[38;5;124mNVDA\u001b[39m\u001b[38;5;124m'\u001b[39m,\u001b[38;5;124m'\u001b[39m\u001b[38;5;124mMETA\u001b[39m\u001b[38;5;124m'\u001b[39m,\u001b[38;5;124m'\u001b[39m\u001b[38;5;124mAMD\u001b[39m\u001b[38;5;124m'\u001b[39m,\u001b[38;5;124m'\u001b[39m\u001b[38;5;124mAI\u001b[39m\u001b[38;5;124m'\u001b[39m]\n\u001b[1;32m      3\u001b[0m \u001b[38;5;66;03m#set the 'Date' column as the index\u001b[39;00m\n\u001b[0;32m----> 4\u001b[0m df\u001b[38;5;241m.\u001b[39mset_index(\u001b[38;5;124m'\u001b[39m\u001b[38;5;124mDate\u001b[39m\u001b[38;5;124m'\u001b[39m, inplace\u001b[38;5;241m=\u001b[39m\u001b[38;5;28;01mTrue\u001b[39;00m)\n",
      "\u001b[0;31mNameError\u001b[0m: name 'df' is not defined"
     ]
    }
   ],
   "source": [
    "#Variables\n",
    "stock_data_list = ['NVDA','META','AMD','AI']\n",
    "#set the 'Date' column as the index\n",
    "df.set_index('Date', inplace = True)\n",
    "# close_price = 0\n",
    "# open_price = 0\n",
    "#to find the means of the stocks over the following time periods \n",
    "#time_period = 1, 3, 5, 10 (year)\n",
    "#Final answers should be two decimal points\n",
    "# use default color for graphs \n",
    "\n"
   ]
  },
  {
   "cell_type": "markdown",
   "id": "9a80f778-b430-44f5-8b4b-d54c8c4801c3",
   "metadata": {},
   "source": [
    "# Calculate Statistical Measures "
   ]
  },
  {
   "cell_type": "code",
   "execution_count": null,
   "id": "d3c279ac-41b5-4bf6-a5eb-184f0ae65dfe",
   "metadata": {},
   "outputs": [],
   "source": []
  },
  {
   "cell_type": "code",
   "execution_count": null,
   "id": "a3552c34-2144-4818-ac63-41965c512df3",
   "metadata": {},
   "outputs": [],
   "source": []
  },
  {
   "cell_type": "code",
   "execution_count": null,
   "id": "d92254c3-f26d-42a9-861b-72eea32f6c33",
   "metadata": {},
   "outputs": [],
   "source": []
  },
  {
   "cell_type": "code",
   "execution_count": null,
   "id": "d4f44d28-0bec-4d64-aa38-c005a41538d3",
   "metadata": {},
   "outputs": [],
   "source": []
  },
  {
   "cell_type": "markdown",
   "id": "8ff15389-67e2-4707-8044-cf22be53d4b9",
   "metadata": {},
   "source": [
    "# Comparative Analysis"
   ]
  },
  {
   "cell_type": "code",
<<<<<<< HEAD
   "execution_count": null,
   "id": "caf6a3a1-a88c-4521-a825-6a7f6423a72e",
   "metadata": {},
   "outputs": [],
   "source": [
    "#Calculate moving averages for each stock\n",
    "#Moving_Average_Days=[10,50, 200]\n",
    "#there are 252 trading days in a year.\n",
    "nvda_stock_df['Rolling_Avg_10_days'] = nvda_stock_df['Close'].rolling(window=10, center=False).mean()\n",
    "nvda_stock_df['Rolling_Avg_50_days'] = nvda_stock_df['Close'].rolling(window=50, center=False).mean()\n",
    "nvda_stock_df['Rolling_Avg_200_days'] = nvda_stock_df['Close'].rolling(window=200, center=False).mean()\n",
    "\n",
    "meta_stock_df['Rolling_Avg_10_days'] = meta_stock_df['Close'].rolling(window=10, center=False).mean()\n",
    "meta_stock_df['Rolling_Avg_50_days'] = meta_stock_df['Close'].rolling(window=50, center=False).mean()\n",
    "meta_stock_df['Rolling_Avg_200_days'] = meta_stock_df['Close'].rolling(window=200, center=False).mean()\n",
    "\n",
    "amd_stock_df['Rolling_Avg_10_days'] = amd_stock_df['Close'].rolling(window=10, center=False).mean()\n",
    "amd_stock_df['Rolling_Avg_50_days'] = amd_stock_df['Close'].rolling(window=50, center=False).mean()\n",
    "amd_stock_df['Rolling_Avg_200_days'] = amd_stock_df['Close'].rolling(window=200, center=False).mean()\n",
    "\n",
    "ai_stock_df['Rolling_Avg_10_days'] = ai_stock_df['Close'].rolling(window=10, center=False).mean()\n",
    "ai_stock_df['Rolling_Avg_50_days'] = ai_stock_df['Close'].rolling(window=50, center=False).mean()\n",
    "ai_stock_df['Rolling_Avg_200_days'] = ai_stock_df['Close'].rolling(window=200, center=False).mean()\n",
    "\n",
    "\n"
=======
   "execution_count": 4,
   "id": "9d99d407-d73d-49fe-a0c8-1f38fa77a44c",
   "metadata": {},
   "outputs": [],
   "source": [
    "#Creating Data Frame for each ticker\n",
    "nvda_stock_df =  stock_df[stock_df[\"Ticker\"]==\"NVDA\"].reset_index(drop=True)\n",
    "meta_stock_df =  stock_df[stock_df[\"Ticker\"]==\"META\"].reset_index(drop=True)\n",
    "amd_stock_df =  stock_df[stock_df[\"Ticker\"]==\"AMD\"].reset_index(drop=True)\n",
    "ai_stock_df =  stock_df[stock_df[\"Ticker\"]==\"AI\"].reset_index(drop=True)"
>>>>>>> refs/remotes/origin/main
   ]
  },
  {
   "cell_type": "code",
<<<<<<< HEAD
   "execution_count": null,
   "id": "302177d3-277c-4ac8-aaae-51a682d94f7d",
   "metadata": {},
   "outputs": [],
   "source": [
    "#Display the updated data frame\n",
    "print(df)"
=======
   "execution_count": 5,
   "id": "caf6a3a1-a88c-4521-a825-6a7f6423a72e",
   "metadata": {},
   "outputs": [],
   "source": [
    "#Calculate moving averages for each stock\n",
    "#Moving_Average_Days=[10,50, 200]\n",
    "#there are 252 trading days in a year.\n",
    "nvda_stock_df['Rolling_Avg_10_days'] = nvda_stock_df['Close'].rolling(window=10, center=False).mean()\n",
    "nvda_stock_df['Rolling_Avg_50_days'] = nvda_stock_df['Close'].rolling(window=50, center=False).mean()\n",
    "nvda_stock_df['Rolling_Avg_200_days'] = nvda_stock_df['Close'].rolling(window=200, center=False).mean()\n"
>>>>>>> refs/remotes/origin/main
   ]
  },
  {
   "cell_type": "code",
<<<<<<< HEAD
   "execution_count": null,
   "id": "e27e119c-0775-4280-a742-726e1dce4cd4",
   "metadata": {},
   "outputs": [],
=======
   "execution_count": 16,
   "id": "e27e119c-0775-4280-a742-726e1dce4cd4",
   "metadata": {},
   "outputs": [
    {
     "ename": "NameError",
     "evalue": "name 'NVDA' is not defined",
     "output_type": "error",
     "traceback": [
      "\u001b[0;31m---------------------------------------------------------------------------\u001b[0m",
      "\u001b[0;31mNameError\u001b[0m                                 Traceback (most recent call last)",
      "Cell \u001b[0;32mIn[16], line 2\u001b[0m\n\u001b[1;32m      1\u001b[0m \u001b[38;5;66;03m#combine all dat into a single DataFrame for plotting\u001b[39;00m\n\u001b[0;32m----> 2\u001b[0m combined_df \u001b[38;5;241m=\u001b[39m pd\u001b[38;5;241m.\u001b[39mconcat(NVDA[[\u001b[38;5;124m\"\u001b[39m\u001b[38;5;124mDate\u001b[39m\u001b[38;5;124m\"\u001b[39m,\u001b[38;5;124m\"\u001b[39m\u001b[38;5;124mClose\u001b[39m\u001b[38;5;124m\"\u001b[39m,\u001b[38;5;124m\"\u001b[39m\u001b[38;5;124mMA_1yr\u001b[39m\u001b[38;5;124m\"\u001b[39m,\u001b[38;5;124m\"\u001b[39m\u001b[38;5;124mMA_3yr\u001b[39m\u001b[38;5;124m\"\u001b[39m,\u001b[38;5;124m\"\u001b[39m\u001b[38;5;124mMA_5yr\u001b[39m\u001b[38;5;124m\"\u001b[39m,\u001b[38;5;124m\"\u001b[39m\u001b[38;5;124mMA_10yr\u001b[39m\u001b[38;5;124m\"\u001b[39m]],\n\u001b[1;32m      3\u001b[0m                         META[[\u001b[38;5;124m\"\u001b[39m\u001b[38;5;124mDate\u001b[39m\u001b[38;5;124m\"\u001b[39m,\u001b[38;5;124m\"\u001b[39m\u001b[38;5;124mClose\u001b[39m\u001b[38;5;124m\"\u001b[39m,\u001b[38;5;124m\"\u001b[39m\u001b[38;5;124mMA_1yr\u001b[39m\u001b[38;5;124m\"\u001b[39m,\u001b[38;5;124m\"\u001b[39m\u001b[38;5;124mMA_3yr\u001b[39m\u001b[38;5;124m\"\u001b[39m,\u001b[38;5;124m\"\u001b[39m\u001b[38;5;124mMA_5yr\u001b[39m\u001b[38;5;124m\"\u001b[39m,\u001b[38;5;124m\"\u001b[39m\u001b[38;5;124mMA_10yr\u001b[39m\u001b[38;5;124m\"\u001b[39m]],\n\u001b[1;32m      4\u001b[0m                         AMD[[\u001b[38;5;124m\"\u001b[39m\u001b[38;5;124mDate\u001b[39m\u001b[38;5;124m\"\u001b[39m,\u001b[38;5;124m\"\u001b[39m\u001b[38;5;124mClose\u001b[39m\u001b[38;5;124m\"\u001b[39m,\u001b[38;5;124m\"\u001b[39m\u001b[38;5;124mMA_1yr\u001b[39m\u001b[38;5;124m\"\u001b[39m,\u001b[38;5;124m\"\u001b[39m\u001b[38;5;124mMA_3yr\u001b[39m\u001b[38;5;124m\"\u001b[39m,\u001b[38;5;124m\"\u001b[39m\u001b[38;5;124mMA_5yr\u001b[39m\u001b[38;5;124m\"\u001b[39m,\u001b[38;5;124m\"\u001b[39m\u001b[38;5;124mMA_10yr\u001b[39m\u001b[38;5;124m\"\u001b[39m]],\n\u001b[1;32m      5\u001b[0m                         AI[[\u001b[38;5;124m\"\u001b[39m\u001b[38;5;124mDate\u001b[39m\u001b[38;5;124m\"\u001b[39m,\u001b[38;5;124m\"\u001b[39m\u001b[38;5;124mClose\u001b[39m\u001b[38;5;124m\"\u001b[39m,\u001b[38;5;124m\"\u001b[39m\u001b[38;5;124mMA_1yr\u001b[39m\u001b[38;5;124m\"\u001b[39m,\u001b[38;5;124m\"\u001b[39m\u001b[38;5;124mMA_3yr\u001b[39m\u001b[38;5;124m\"\u001b[39m,\u001b[38;5;124m\"\u001b[39m\u001b[38;5;124mMA_5yr\u001b[39m\u001b[38;5;124m\"\u001b[39m,\u001b[38;5;124m\"\u001b[39m\u001b[38;5;124mMA_10yr\u001b[39m\u001b[38;5;124m\"\u001b[39m]],\n\u001b[1;32m      6\u001b[0m                        keys \u001b[38;5;241m=\u001b[39m [\u001b[38;5;124m\"\u001b[39m\u001b[38;5;124mNVDA\u001b[39m\u001b[38;5;124m\"\u001b[39m,\u001b[38;5;124m\"\u001b[39m\u001b[38;5;124mMETA\u001b[39m\u001b[38;5;124m\"\u001b[39m,\u001b[38;5;124m\"\u001b[39m\u001b[38;5;124mAMD\u001b[39m\u001b[38;5;124m\"\u001b[39m,\u001b[38;5;124m\"\u001b[39m\u001b[38;5;124mAI\u001b[39m\u001b[38;5;124m\"\u001b[39m],\n\u001b[1;32m      7\u001b[0m                        axis\u001b[38;5;241m=\u001b[39m\u001b[38;5;241m1\u001b[39m)\n",
      "\u001b[0;31mNameError\u001b[0m: name 'NVDA' is not defined"
     ]
    }
   ],
>>>>>>> refs/remotes/origin/main
   "source": [
    "#combine all dat into a single DataFrame for plotting\n",
    "combined_df = pd.DataFrame({\n",
    "    'Date': df.index,\n",
    "    'NVDA': nvda_stock_df,\n",
    "    'META':meta_stock_df,\n",
    "    'IA': ai_stock_df,\n",
    "    'AMD': amd_stock_df,\n",
    "    'NVDA_MA10':nvda_stock_df['Rolling_Avg_10_days'] ,\n",
    "    'NVDA_MA50': nvda_stock_df['Rolling_Avg_50_days'],\n",
    "    'NVDA_MA200':nvda_stock_df['Rolling_Avg_200_days'],\n",
    "    'META_MA10': meta_stock_df['Rolling_Avg_10_days'],\n",
    "    'META_MA50': meta_stock_df['Rolling_Avg_50_days'],\n",
    "    'META_MA200': meta_stock_df['Rolling_Avg_200_days'],\n",
    "    'IA_MA10': ai_stock_df['Rolling_Avg_10_days'],\n",
    "    'IA_MA50': ai_stock_df['Rolling_Avg_50_days'],\n",
    "    'IA_MA200': ai_stock_df['Rolling_Avg_200_days'],\n",
    "    'AMD_MA10': amd_stock_df['Rolling_Avg_10_days'],\n",
    "    'AMD_MA50': amd_stock_df['Rolling_Avg_50_days'] ,\n",
    "    'AMD_MA200': amd_stock_df['Rolling_Avg_200_days']\n",
    "})\n"
   ]
  },
  {
   "cell_type": "code",
   "execution_count": null,
   "id": "6d884ec7-d1f1-45f4-8dfe-d4382423deb1",
   "metadata": {},
   "outputs": [],
   "source": [
    "#plotting\n",
    "# Plotting the moving averages\n",
    "plt.figure(figsize=(14, 7))\n",
    "plt.plot(combined_df['Date'], combined_df['NVDA_MA10'], label='NVDA MA10', color='blue')\n",
    "plt.plot(combined_df['Date'], combined_df['NVDA_MA50'], label='NVDA MA50', color='green')\n",
    "plt.plot(combined_df['Date'], combined_df['NVDA_MA200'], label='NVDA MA200', color='orange')\n",
    "plt.plot(combined_df['Date'], combined_df['META_MA10'], label='META MA10', color='red')\n",
    "plt.plot(combined_df['Date'], combined_df['META_MA50'], label='META MA50', color='purple')\n",
    "plt.plot(combined_df['Date'], combined_df['META_MA200'], label='META MA200', color='brown')\n",
    "plt.plot(combined_df['Date'], combined_df['IA_MA10'], label='IA MA10', color='pink')\n",
    "plt.plot(combined_df['Date'], combined_df['IA_MA50'], label='IA MA50', color='gray')\n",
    "plt.plot(combined_df['Date'], combined_df['IA_MA200'], label='IA MA200', color='black')\n",
    "plt.plot(combined_df['Date'], combined_df['AMD_MA10'], label='AMD MA10', color='cyan')\n",
    "plt.plot(combined_df['Date'], combined_df['AMD_MA50'], label='AMD MA50', color='magenta')\n",
    "plt.plot(combined_df['Date'], combined_df['AMD_MA200'], label='AMD MA200', color='yellow')\n",
    "plt.title('Moving Averages for NVDA, META, IA, and AMD')\n",
    "plt.xlabel('Date')\n",
    "plt.ylabel('Price')\n",
    "plt.legend()\n",
    "plt.show()"
   ]
  },
  {
   "cell_type": "code",
   "execution_count": null,
   "id": "c4af3e6a-27bf-4f3c-bee5-ec4a085d100a",
   "metadata": {},
   "outputs": [],
   "source": [
    "#calculate the yearly returns for each stock\n",
    "# Calculate the initial and final prices for NVDA for each year\n",
    "nvda_df = combined_df[['NVDA']]\n",
    "grouped_nvda = nvda_df.groupby(nvda_df.index.year)\n",
    "initial_prices_nvda = grouped_nvda.first()\n",
    "final_prices_nvda = grouped_nvda.last()\n"
   ]
  },
  {
   "cell_type": "code",
   "execution_count": null,
   "id": "584e43e3-733b-4595-9972-99c8258864eb",
   "metadata": {},
   "outputs": [],
   "source": [
    "# Calculate the yearly return for NVDA for 1, 3, 5, and 10 years\n",
    "nvda_returns = pd.DataFrame()\n",
    "for years in [1, 3, 5, 10]:\n",
    "    nvda_returns[f'Return_{years}Y'] = ((final_prices_nvda / initial_prices_nvda.shift(years)) ** (1/years)) - 1"
   ]
  },
  {
   "cell_type": "code",
   "execution_count": null,
   "id": "1e4cbacd-7d7a-4eeb-b206-c4795db1e287",
   "metadata": {},
   "outputs": [],
   "source": [
    "  # Display the returns for NVDA\n",
    "print(nvda_returns)          "
   ]
  },
  {
   "cell_type": "code",
   "execution_count": null,
   "id": "03892477-e342-42f8-9281-7a70b7ac6cbf",
   "metadata": {},
   "outputs": [],
   "source": [
    "# Calculate the initial and final prices for META for each year\n",
    "meta_df = combined_df[['META']]\n",
    "grouped_meta = meta_df.groupby(meta_df.index.year)\n",
    "initial_prices_meta = grouped_meta.first()\n",
    "final_prices_meta = grouped_meta.last()"
   ]
  },
  {
   "cell_type": "code",
   "execution_count": null,
   "id": "9a08b14c-3dac-437c-ae10-8cb9353f7c3c",
   "metadata": {},
   "outputs": [],
   "source": [
<<<<<<< HEAD
    "# Calculate the yearly return for META for 1, 3, 5, and 10 years\n",
    "meta_returns = pd.DataFrame()\n",
    "for years in [1, 3, 5, 10]:\n",
    "  meta_returns[f'Return_{years}Y'] = ((final_prices_meta / initial_prices_meta.shift(years)) ** (1/years)) - 1"
=======
    "#calculate the yearly returns for each stock\n",
    "NVDA[\"Year\"] = stock_df[\"Date\"].dt.year\n",
    "NVDA[\"yearly_return\"] = NVDA[\"Close\"].pct_change()*100\n",
    "NVDA[\"MA_yearly_return_1yr\"] = NVDA[\"yearly_return\"].rolling(window=252).mean()\n",
    "NVDA[\"MA_yearly_return_3yr\"] = NVDA[\"yearly_return\"].rolling(window=252*3).mean()\n",
    "NVDA[\"MA_yearly_return_5yr\"] = NVDA[\"yearly_return\"].rolling(window=252*5).mean()\n",
    "NVDA[\"MA_yearly_return_10yr\"] = NVDA[\"yearly_return\"].rolling(window=252*10).mean()\n",
    "\n",
    "META[\"Year\"] = df[\"Date\"].dt.year\n",
    "META[\"yearly_return\"] = META[\"Close\"].pct_change()*100\n",
    "META[\"MA_yearly_return_1yr\"] =META[\"yearly_return\"].rolling(window=252).mean()\n",
    "META[\"MA_yearly_return_3yr\"] = META[\"yearly_return\"].rolling(window=252*3).mean()\n",
    "META[\"MA_yearly_return_5yr\"] = META[\"yearly_return\"].rolling(window=252*5).mean()\n",
    "META[\"MA_yearly_return_10yr\"] = META[\"yearly_return\"].rolling(window=252*10).mean()\n",
    "\n",
    "AMD[\"Year\"] = df[\"Date\"].dt.year\n",
    "AMD[\"yearly_return\"] = AMD[\"Close\"].pct_change()*100\n",
    "AMD[\"MA_yearly_return_1yr\"] =AMD[\"yearly_return\"].rolling(window=252).mean()\n",
    "AMD[\"MA_yearly_return_3yr\"] = AMD[\"yearly_return\"].rolling(window=252*3).mean()\n",
    "AMD[\"MA_yearly_return_5yr\"] = AMD[\"yearly_return\"].rolling(window=252*5).mean()\n",
    "AMD[\"MA_yearly_return_10yr\"] = AMD[\"yearly_return\"].rolling(window=252*10).mean()\n",
    "\n",
    "AI[\"Year\"] = df[\"Date\"].dt.year\n",
    "AI[\"yearly_return\"] = AI[\"Close\"].pct_change()*100\n",
    "AI[\"MA_yearly_return_1yr\"] =AI[\"yearly_return\"].rolling(window=252).mean()\n",
    "AI[\"MA_yearly_return_3yr\"] = AI[\"yearly_return\"].rolling(window=252*3).mean()\n",
    "AI[\"MA_yearly_return_5yr\"] = AI[\"yearly_return\"].rolling(window=252*5).mean()\n",
    "AI[\"MA_yearly_return_10yr\"] = AI[\"yearly_return\"].rolling(window=252*10).mean()\n"
>>>>>>> refs/remotes/origin/main
   ]
  },
  {
   "cell_type": "code",
   "execution_count": null,
   "id": "c0f3be0b-7745-4bc4-94c4-14a3e951059c",
   "metadata": {},
   "outputs": [],
   "source": [
    "# Display the returns for META\n",
    "print(meta_returns)"
   ]
  },
  {
   "cell_type": "code",
   "execution_count": null,
   "id": "abfeb261-743c-4643-9be9-14c485ceb8e3",
   "metadata": {},
   "outputs": [],
   "source": [
    "md_df = combined_df[['AMD']]\n",
    "grouped_amd = amd_df.groupby(amd_df.index.year)\n",
    "initial_prices_amd = grouped_amd.first()\n",
    "final_prices_amd = grouped_amd.last()\n"
   ]
  },
  {
   "cell_type": "code",
   "execution_count": null,
   "id": "3683fc75-3203-4a2d-b424-604698902596",
   "metadata": {},
   "outputs": [],
   "source": [
    "# Calculate the yearly return for AMD for 1, 3, 5, and 10 years\n",
    "amd_returns = pd.DataFrame()\n",
    "for years in [1, 3, 5, 10]:\n",
    "    amd_returns[f'Return_{years}Y'] = ((final_prices_amd / initial_prices_amd.shift(years)) ** (1/years)) - 1\n",
    "\n",
    "                              "
   ]
  },
  {
   "cell_type": "code",
   "execution_count": null,
   "id": "c198c2e3-e9c7-4590-b1bc-52dd26be00ac",
   "metadata": {},
   "outputs": [],
   "source": [
    "# Display the returns for AMD\n",
    "print(amd_returns)"
   ]
  },
  {
   "cell_type": "code",
   "execution_count": null,
   "id": "bc75991f-5eba-4344-973a-2326ec3dcef7",
   "metadata": {},
   "outputs": [],
   "source": [
    "# Calculate the initial and final prices for IA for each year\n",
    "ia_df = combined_df[['IA']]\n",
    "grouped_ia = ia_df.groupby(ia_df.index.year)\n",
    "initial_prices_ia = grouped_ia.first()\n",
    "final_prices_ia = grouped_ia.last()"
   ]
  },
  {
   "cell_type": "code",
   "execution_count": null,
   "id": "2811296c-cc96-4eb9-87d1-d894ea8892bf",
   "metadata": {},
   "outputs": [],
   "source": [
    "# Calculate the yearly return for IA for 1, 3, 5, and 10 years\n",
    "ia_returns = pd.DataFrame()\n",
    "for years in [1, 3, 5, 10]:\n",
    "    ia_returns[f'Return_{years}Y'] = ((final_prices_ia / initial_prices_ia.shift(years)) ** (1/years)) - 1"
   ]
  },
  {
   "cell_type": "code",
   "execution_count": null,
   "id": "3b339c85-dc42-4f3d-a333-f7253d83726c",
   "metadata": {},
   "outputs": [],
   "source": [
    "# Display the returns for IA\n",
    "print(ia_returns)"
   ]
  },
  {
   "cell_type": "code",
   "execution_count": null,
   "id": "a6bc8e55-e084-4a8c-bb77-d719871c6e5b",
   "metadata": {},
   "outputs": [],
   "source": [
    "# Combine the returns for NVDA, META, AMD, and IA into a single data frame\n",
    "combined_returns = pd.concat([nvda_returns, meta_returns, amd_returns, ia_returns], axis=1)\n",
    "combined_returns.columns = ['NVDA_1Y', 'NVDA_3Y', 'NVDA_5Y', 'NVDA_10Y',\n",
    "                            'META_1Y', 'META_3Y', 'META_5Y', 'META_10Y',\n",
    "                            'AMD_1Y', 'AMD_3Y', 'AMD_5Y', 'AMD_10Y',\n",
    "                            'IA_1Y', 'IA_3Y', 'IA_5Y', 'IA_10Y']"
   ]
  },
  {
   "cell_type": "code",
   "execution_count": null,
   "id": "a9d9d968-214f-4834-818b-8ae755dc4245",
   "metadata": {},
   "outputs": [],
   "source": [
    "# Display the combined returns\n",
    "print(combined_returns)"
   ]
  },
  {
   "cell_type": "code",
   "execution_count": null,
   "id": "a72ecf56-0ab2-4359-8617-feaa0071be36",
   "metadata": {},
   "outputs": [],
   "source": [
    "# Plotting the combined returns\n",
    "plt.figure(figsize=(14, 7))\n",
    "plt.plot(combined_returns.index, combined_returns['NVDA_1Y'], label='NVDA 1Y', color='blue')\n",
    "plt.plot(combined_returns.index, combined_returns['NVDA_3Y'], label='NVDA 3Y', color='green')\n",
    "plt.plot(combined_returns.index, combined_returns['NVDA_5Y'], label='NVDA 5Y', color='orange')\n",
    "plt.plot(combined_returns.index, combined_returns['NVDA_10Y'], label='NVDA 10Y', color='red')\n",
    "plt.plot(combined_returns.index, combined_returns['META_1Y'], label='META 1Y', linestyle='--', color='blue')\n",
    "plt.plot(combined_returns.index, combined_returns['META_3Y'], label='META 3Y', linestyle='--', color='green')\n",
    "plt.plot(combined_returns.index, combined_returns['META_5Y'], label='META 5Y', linestyle='--', color='orange')\n",
    "plt.plot(combined_returns.index, combined_returns['META_10Y'], label='META 10Y', linestyle='--', color='red')\n",
    "plt.plot(combined_returns.index, combined_returns['AMD_1Y'], label='AMD 1Y', linestyle='-.', color='blue')\n",
    "plt.plot(combined_returns.index, combined_returns['AMD_3Y'], label='AMD 3Y', linestyle='-.', color='green')\n",
    "plt.plot(combined_returns.index, combined_returns['AMD_5Y'], label='AMD 5Y', linestyle='-.', color='orange')\n",
    "plt.plot(combined_returns.index, combined_returns['AMD_10Y'], label='AMD 10Y', linestyle='-.', color='red')\n",
    "plt.plot(combined_returns.index, combined_returns['IA_1Y'], label='IA 1Y', linestyle=':', color='blue')\n",
    "plt.plot(combined_returns.index, combined_returns['IA_3Y'], label='IA 3Y', linestyle=':', color='green')\n",
    "plt.plot(combined_returns.index, combined_returns['IA_5Y'], label='IA 5Y', linestyle=':', color='orange')\n",
    "plt.plot(combined_returns.index, combined_returns['IA_10Y'], label='IA 10Y', linestyle=':', color='red')\n",
    "plt.title('Combined Returns for NVDA, META, AMD, and IA')\n",
    "plt.xlabel('Year')\n",
    "plt.ylabel('Return')\n",
    "plt.legend()\n",
    "plt.grid(True)\n",
    "plt.show()"
   ]
  },
  {
   "cell_type": "code",
   "execution_count": null,
   "id": "87d34982-2a25-4da7-a45b-e7c82f1ecdea",
   "metadata": {},
   "outputs": [],
   "source": [
    "#Correlation and plotting\n",
    "#calculate the correlation between the 1, 3, 5, and 10 years returns for NVDA, META, AMD, and IA stocks\n",
    "# Assuming combined_returns is the combined returns data frame\n",
    "# Calculate the correlation matrix\n",
    "correlation_matrix = combined_returns[['NVDA_1Y', 'NVDA_3Y', 'NVDA_5Y', 'NVDA_10Y',\n",
    "                                       'META_1Y', 'META_3Y', 'META_5Y', 'META_10Y',\n",
    "                                       'AMD_1Y', 'AMD_3Y', 'AMD_5Y', 'AMD_10Y',\n",
    "                                       'IA_1Y', 'IA_3Y', 'IA_5Y', 'IA_10Y']].corr()"
   ]
  },
  {
   "cell_type": "code",
   "execution_count": null,
   "id": "ea3f1610-edc7-475e-a4cb-8cb55e1d58a1",
   "metadata": {},
   "outputs": [],
   "source": [
    "# Display the correlation matrix\n",
    "print(correlation_matrix)"
   ]
  },
  {
   "cell_type": "code",
   "execution_count": null,
   "id": "943d21f4-f33c-45ce-944a-dc13eab09629",
   "metadata": {},
   "outputs": [],
   "source": [
    "#This code calculates the correlation matrix between the 1, 3, 5, and 10 years returns for NVDA, META, AMD, and IA stocks.\n",
    "#The correlation coefficient ranges from -1 to 1, where 1 indicates a perfect positive correlation, -1 indicates a perfect negative \n",
    "#correlation,and 0 indicates no correlation.\n",
    "# Select the columns for the scatter plot\n",
    "from pandas.plotting import scatter_matrix\n",
    "scatter_cols = combined_returns[['NVDA_1Y', 'META_1Y', 'AMD_1Y', 'IA_1Y']]"
   ]
  },
  {
   "cell_type": "code",
   "execution_count": null,
   "id": "5077d530-3532-424b-bfd8-0b8b09a4df15",
   "metadata": {},
   "outputs": [],
   "source": [
    "# Select the columns for the scatter plot\n",
    "from pandas.plotting import scatter_matrix\n",
    "scatter_cols = combined_returns[['NVDA_1Y', 'META_1Y', 'AMD_1Y', 'IA_1Y']]\n"
   ]
  },
  {
   "cell_type": "code",
   "execution_count": null,
   "id": "3f7bbb8a-f82e-477c-ab23-4c41bbaf6106",
   "metadata": {},
   "outputs": [],
   "source": [
    "# Create the scatter plot\n",
    "scatter_matrix(scatter_cols, figsize=(10, 10), diagonal='kde')\n",
    "plt.suptitle('Scatter Plot of 1-Year Returns for NVDA, META, AMD, and IA', y=0.95, fontsize=16)\n"
   ]
  },
  {
   "cell_type": "code",
   "execution_count": null,
   "id": "86fc2073-5abb-42c4-92ab-7c19b5d97668",
   "metadata": {},
   "outputs": [],
   "source": []
  },
  {
   "cell_type": "markdown",
   "id": "ac23101f-b02b-4e33-bf2b-734d1dd8357f",
   "metadata": {},
   "source": [
    "# Measure of Risk"
   ]
  },
  {
   "cell_type": "code",
   "execution_count": null,
   "id": "ff6ff105-3b8a-40f8-947e-e5c2375752e1",
   "metadata": {},
   "outputs": [],
   "source": []
  },
  {
   "cell_type": "code",
   "execution_count": null,
   "id": "2cd0bdaa-651c-446f-adb5-1fbda82635cd",
   "metadata": {},
   "outputs": [],
   "source": []
  }
 ],
 "metadata": {
  "kernelspec": {
   "display_name": "Python 3 (ipykernel)",
   "language": "python",
   "name": "python3"
  },
  "language_info": {
   "codemirror_mode": {
    "name": "ipython",
    "version": 3
   },
   "file_extension": ".py",
   "mimetype": "text/x-python",
   "name": "python",
   "nbconvert_exporter": "python",
   "pygments_lexer": "ipython3",
   "version": "3.11.7"
  }
 },
 "nbformat": 4,
 "nbformat_minor": 5
}
