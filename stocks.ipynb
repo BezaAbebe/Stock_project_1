{
 "cells": [
  {
   "cell_type": "code",
   "execution_count": 100,
   "id": "ace07697-51b6-4838-887c-019072e55332",
   "metadata": {},
   "outputs": [],
   "source": [
    "import pandas as pd\n",
    "import numpy as np\n",
    "import scipy.stats as stats\n",
    "import matplotlib as plt"
   ]
  },
  {
   "cell_type": "code",
   "execution_count": 101,
   "id": "feb0569d-bf97-4a7c-a9c6-2ffdd45e2354",
   "metadata": {},
   "outputs": [],
   "source": [
    "#creating a path\n",
    "file_path =(\"/Users/francoiseelismbazoaokala/Documents/Stock_project_1/Resources/StockDataConsolidated.csv\")"
   ]
  },
  {
   "cell_type": "code",
   "execution_count": 102,
   "id": "79b17cd3-6d6f-4b72-b799-acc66cc903b0",
   "metadata": {},
   "outputs": [
    {
     "data": {
      "text/html": [
       "<div>\n",
       "<style scoped>\n",
       "    .dataframe tbody tr th:only-of-type {\n",
       "        vertical-align: middle;\n",
       "    }\n",
       "\n",
       "    .dataframe tbody tr th {\n",
       "        vertical-align: top;\n",
       "    }\n",
       "\n",
       "    .dataframe thead th {\n",
       "        text-align: right;\n",
       "    }\n",
       "</style>\n",
       "<table border=\"1\" class=\"dataframe\">\n",
       "  <thead>\n",
       "    <tr style=\"text-align: right;\">\n",
       "      <th></th>\n",
       "      <th>NVDA</th>\n",
       "      <th>Date</th>\n",
       "      <th>Open</th>\n",
       "      <th>High</th>\n",
       "      <th>Low</th>\n",
       "      <th>Close</th>\n",
       "      <th>Adj Close</th>\n",
       "      <th>Volume</th>\n",
       "    </tr>\n",
       "  </thead>\n",
       "  <tbody>\n",
       "    <tr>\n",
       "      <th>0</th>\n",
       "      <td>NVDA</td>\n",
       "      <td>1/2/2013</td>\n",
       "      <td>3.140000</td>\n",
       "      <td>3.182500</td>\n",
       "      <td>3.127500</td>\n",
       "      <td>3.180000</td>\n",
       "      <td>2.935840</td>\n",
       "      <td>47883600</td>\n",
       "    </tr>\n",
       "    <tr>\n",
       "      <th>1</th>\n",
       "      <td>NVDA</td>\n",
       "      <td>1/3/2013</td>\n",
       "      <td>3.180000</td>\n",
       "      <td>3.217500</td>\n",
       "      <td>3.145000</td>\n",
       "      <td>3.182500</td>\n",
       "      <td>2.938147</td>\n",
       "      <td>29888800</td>\n",
       "    </tr>\n",
       "    <tr>\n",
       "      <th>2</th>\n",
       "      <td>NVDA</td>\n",
       "      <td>1/4/2013</td>\n",
       "      <td>3.187500</td>\n",
       "      <td>3.297500</td>\n",
       "      <td>3.177500</td>\n",
       "      <td>3.287500</td>\n",
       "      <td>3.035086</td>\n",
       "      <td>52496800</td>\n",
       "    </tr>\n",
       "    <tr>\n",
       "      <th>3</th>\n",
       "      <td>NVDA</td>\n",
       "      <td>1/7/2013</td>\n",
       "      <td>3.285000</td>\n",
       "      <td>3.295000</td>\n",
       "      <td>3.170000</td>\n",
       "      <td>3.192500</td>\n",
       "      <td>2.947381</td>\n",
       "      <td>61073200</td>\n",
       "    </tr>\n",
       "    <tr>\n",
       "      <th>4</th>\n",
       "      <td>NVDA</td>\n",
       "      <td>1/8/2013</td>\n",
       "      <td>3.200000</td>\n",
       "      <td>3.210000</td>\n",
       "      <td>3.100000</td>\n",
       "      <td>3.122500</td>\n",
       "      <td>2.882755</td>\n",
       "      <td>46642400</td>\n",
       "    </tr>\n",
       "    <tr>\n",
       "      <th>...</th>\n",
       "      <td>...</td>\n",
       "      <td>...</td>\n",
       "      <td>...</td>\n",
       "      <td>...</td>\n",
       "      <td>...</td>\n",
       "      <td>...</td>\n",
       "      <td>...</td>\n",
       "      <td>...</td>\n",
       "    </tr>\n",
       "    <tr>\n",
       "      <th>8549</th>\n",
       "      <td>AI</td>\n",
       "      <td>12/22/2023</td>\n",
       "      <td>29.700001</td>\n",
       "      <td>29.950001</td>\n",
       "      <td>28.420000</td>\n",
       "      <td>28.740000</td>\n",
       "      <td>28.740000</td>\n",
       "      <td>9783900</td>\n",
       "    </tr>\n",
       "    <tr>\n",
       "      <th>8550</th>\n",
       "      <td>AI</td>\n",
       "      <td>12/26/2023</td>\n",
       "      <td>28.900000</td>\n",
       "      <td>29.889999</td>\n",
       "      <td>28.659000</td>\n",
       "      <td>29.469999</td>\n",
       "      <td>29.469999</td>\n",
       "      <td>7758200</td>\n",
       "    </tr>\n",
       "    <tr>\n",
       "      <th>8551</th>\n",
       "      <td>AI</td>\n",
       "      <td>12/27/2023</td>\n",
       "      <td>29.709999</td>\n",
       "      <td>30.459999</td>\n",
       "      <td>29.400000</td>\n",
       "      <td>30.049999</td>\n",
       "      <td>30.049999</td>\n",
       "      <td>9300300</td>\n",
       "    </tr>\n",
       "    <tr>\n",
       "      <th>8552</th>\n",
       "      <td>AI</td>\n",
       "      <td>12/28/2023</td>\n",
       "      <td>30.000000</td>\n",
       "      <td>31.129999</td>\n",
       "      <td>29.790001</td>\n",
       "      <td>30.230000</td>\n",
       "      <td>30.230000</td>\n",
       "      <td>8979400</td>\n",
       "    </tr>\n",
       "    <tr>\n",
       "      <th>8553</th>\n",
       "      <td>AI</td>\n",
       "      <td>12/29/2023</td>\n",
       "      <td>30.180000</td>\n",
       "      <td>30.200001</td>\n",
       "      <td>28.559999</td>\n",
       "      <td>28.709999</td>\n",
       "      <td>28.709999</td>\n",
       "      <td>10659600</td>\n",
       "    </tr>\n",
       "  </tbody>\n",
       "</table>\n",
       "<p>8554 rows × 8 columns</p>\n",
       "</div>"
      ],
      "text/plain": [
       "      NVDA        Date       Open       High        Low      Close  Adj Close  \\\n",
       "0     NVDA    1/2/2013   3.140000   3.182500   3.127500   3.180000   2.935840   \n",
       "1     NVDA    1/3/2013   3.180000   3.217500   3.145000   3.182500   2.938147   \n",
       "2     NVDA    1/4/2013   3.187500   3.297500   3.177500   3.287500   3.035086   \n",
       "3     NVDA    1/7/2013   3.285000   3.295000   3.170000   3.192500   2.947381   \n",
       "4     NVDA    1/8/2013   3.200000   3.210000   3.100000   3.122500   2.882755   \n",
       "...    ...         ...        ...        ...        ...        ...        ...   \n",
       "8549    AI  12/22/2023  29.700001  29.950001  28.420000  28.740000  28.740000   \n",
       "8550    AI  12/26/2023  28.900000  29.889999  28.659000  29.469999  29.469999   \n",
       "8551    AI  12/27/2023  29.709999  30.459999  29.400000  30.049999  30.049999   \n",
       "8552    AI  12/28/2023  30.000000  31.129999  29.790001  30.230000  30.230000   \n",
       "8553    AI  12/29/2023  30.180000  30.200001  28.559999  28.709999  28.709999   \n",
       "\n",
       "        Volume  \n",
       "0     47883600  \n",
       "1     29888800  \n",
       "2     52496800  \n",
       "3     61073200  \n",
       "4     46642400  \n",
       "...        ...  \n",
       "8549   9783900  \n",
       "8550   7758200  \n",
       "8551   9300300  \n",
       "8552   8979400  \n",
       "8553  10659600  \n",
       "\n",
       "[8554 rows x 8 columns]"
      ]
     },
     "execution_count": 102,
     "metadata": {},
     "output_type": "execute_result"
    }
   ],
   "source": [
    "#Reading the csv file\n",
    "stock_df = pd.read_csv(file_path)\n",
    "stock_df"
   ]
  },
  {
   "cell_type": "code",
   "execution_count": 103,
   "id": "c466f3f1-b7f5-4fc4-aa31-e999b03f2edb",
   "metadata": {},
   "outputs": [],
   "source": [
    "#Variables\n",
    "stock_data_list = [\"NVDA\",\"META\",\"AMD\",\"AI\"]\n",
    "# close_price = 0\n",
    "# open_price = 0\n",
    "#to find the means of the stocks over the following time periods \n",
    "#time_period = 1, 3, 5, 10 (year)\n",
    "#Final answers should be two decimal points\n",
    "# use default color for graphs \n",
    "\n"
   ]
  },
  {
   "cell_type": "markdown",
   "id": "9a80f778-b430-44f5-8b4b-d54c8c4801c3",
   "metadata": {},
   "source": [
    "# Calculate Statistical Measures "
   ]
  },
  {
   "cell_type": "code",
   "execution_count": null,
   "id": "d3c279ac-41b5-4bf6-a5eb-184f0ae65dfe",
   "metadata": {},
   "outputs": [],
   "source": []
  },
  {
   "cell_type": "code",
   "execution_count": null,
   "id": "a3552c34-2144-4818-ac63-41965c512df3",
   "metadata": {},
   "outputs": [],
   "source": []
  },
  {
   "cell_type": "code",
   "execution_count": null,
   "id": "d92254c3-f26d-42a9-861b-72eea32f6c33",
   "metadata": {},
   "outputs": [],
   "source": []
  },
  {
   "cell_type": "code",
   "execution_count": null,
   "id": "d4f44d28-0bec-4d64-aa38-c005a41538d3",
   "metadata": {},
   "outputs": [],
   "source": []
  },
  {
   "cell_type": "markdown",
   "id": "8ff15389-67e2-4707-8044-cf22be53d4b9",
   "metadata": {},
   "source": [
    "# Comparative Analysis"
   ]
  },
  {
   "cell_type": "code",
   "execution_count": 104,
   "id": "caf6a3a1-a88c-4521-a825-6a7f6423a72e",
   "metadata": {},
   "outputs": [
    {
     "ename": "TypeError",
     "evalue": "string indices must be integers, not 'str'",
     "output_type": "error",
     "traceback": [
      "\u001b[0;31m---------------------------------------------------------------------------\u001b[0m",
      "\u001b[0;31mTypeError\u001b[0m                                 Traceback (most recent call last)",
      "Cell \u001b[0;32mIn[104], line 4\u001b[0m\n\u001b[1;32m      1\u001b[0m \u001b[38;5;66;03m#Calculate moving averages for each stock\u001b[39;00m\n\u001b[1;32m      2\u001b[0m \u001b[38;5;66;03m#Moving_Average_Year=[1,3,5,10]\u001b[39;00m\n\u001b[1;32m      3\u001b[0m \u001b[38;5;66;03m#there are 252 trading days in a year.\u001b[39;00m\n\u001b[0;32m----> 4\u001b[0m NVDA[\u001b[38;5;124m\"\u001b[39m\u001b[38;5;124mMA_1yr\u001b[39m\u001b[38;5;124m\"\u001b[39m]\u001b[38;5;241m=\u001b[39mNVDA[\u001b[38;5;124m\"\u001b[39m\u001b[38;5;124mclose\u001b[39m\u001b[38;5;124m\"\u001b[39m]\u001b[38;5;241m.\u001b[39mrolling(window\u001b[38;5;241m=\u001b[39m\u001b[38;5;241m252\u001b[39m)\u001b[38;5;241m.\u001b[39mmean()\n\u001b[1;32m      5\u001b[0m NVDA[\u001b[38;5;124m\"\u001b[39m\u001b[38;5;124mMA_3yr\u001b[39m\u001b[38;5;124m\"\u001b[39m]\u001b[38;5;241m=\u001b[39mNVDA[\u001b[38;5;124m\"\u001b[39m\u001b[38;5;124mclose\u001b[39m\u001b[38;5;124m\"\u001b[39m]\u001b[38;5;241m.\u001b[39mrolling(window\u001b[38;5;241m=\u001b[39m\u001b[38;5;241m252\u001b[39m\u001b[38;5;241m*\u001b[39m\u001b[38;5;241m3\u001b[39m)\u001b[38;5;241m.\u001b[39mmean()\n\u001b[1;32m      6\u001b[0m NVDA[\u001b[38;5;124m\"\u001b[39m\u001b[38;5;124mMA_5yr\u001b[39m\u001b[38;5;124m\"\u001b[39m]\u001b[38;5;241m=\u001b[39mNVDA[\u001b[38;5;124m\"\u001b[39m\u001b[38;5;124mclose\u001b[39m\u001b[38;5;124m\"\u001b[39m]\u001b[38;5;241m.\u001b[39mrolling(window\u001b[38;5;241m=\u001b[39m\u001b[38;5;241m252\u001b[39m\u001b[38;5;241m*\u001b[39m\u001b[38;5;241m5\u001b[39m)\u001b[38;5;241m.\u001b[39mmean()\n",
      "\u001b[0;31mTypeError\u001b[0m: string indices must be integers, not 'str'"
     ]
    }
   ],
   "source": [
    "#Calculate moving averages for each stock\n",
    "#Moving_Average_Year=[1,3,5,10]\n",
    "#there are 252 trading days in a year.\n",
    "NVDA[\"MA_1yr\"]=NVDA[\"close\"].rolling(window=252).mean()\n",
    "NVDA[\"MA_3yr\"]=NVDA[\"close\"].rolling(window=252*3).mean()\n",
    "NVDA[\"MA_5yr\"]=NVDA[\"close\"].rolling(window=252*5).mean()\n",
    "NVDA[\"MA_10yr\"]=NVDA[\"close\"].rolling(window=252*10).mean()\n",
    "\n",
    "META[\"MA_1yr\"]=META[\"close\"].rolling(window=252).mean()\n",
    "META[\"MA_3yr\"]=META[\"close\"].rolling(window=252*3).mean()\n",
    "META[\"MA_5yr\"]=META[\"close\"].rolling(window=252*5).mean()\n",
    "META[\"MA_10yr\"]=META[\"close\"].rolling(window=252*10).mean()\n",
    "\n",
    "AMD[\"MA_1yr\"]=AMD[\"close\"].rolling(window=252).mean()\n",
    "AMD[\"MA_3yr\"]=AMD[\"close\"].rolling(window=252*3).mean()\n",
    "AMD[\"MA_5yr\"]=AMD[\"close\"].rolling(window=252*5).mean()\n",
    "AMD[\"MA_10yr\"]=AMD[\"close\"].rolling(window=252*10).mean()\n",
    "\n",
    "AI[\"MA_1yr\"]=AI[\"close\"].rolling(window=252).mean()\n",
    "AI[\"MA_3yr\"]=AI[\"close\"].rolling(window=252*3).mean()\n",
    "AI[\"MA_5yr\"]=AI[\"close\"].rolling(window=252*5).mean()\n",
    "AI[\"MA_10yr\"]=AI[\"close\"].rolling(window=252*10).mean()\n",
    "\n",
    "NVDA.tail()\n",
    "META.tail()\n",
    "AMD.tail()\n",
    "AI.tail()"
   ]
  },
  {
   "cell_type": "code",
   "execution_count": 91,
   "id": "e27e119c-0775-4280-a742-726e1dce4cd4",
   "metadata": {},
   "outputs": [
    {
     "ename": "TypeError",
     "evalue": "string indices must be integers, not 'list'",
     "output_type": "error",
     "traceback": [
      "\u001b[0;31m---------------------------------------------------------------------------\u001b[0m",
      "\u001b[0;31mTypeError\u001b[0m                                 Traceback (most recent call last)",
      "Cell \u001b[0;32mIn[91], line 2\u001b[0m\n\u001b[1;32m      1\u001b[0m \u001b[38;5;66;03m#combine all dat into a single DataFrame for plotting\u001b[39;00m\n\u001b[0;32m----> 2\u001b[0m combined_df \u001b[38;5;241m=\u001b[39m pd\u001b[38;5;241m.\u001b[39mconcat(NVDA[[\u001b[38;5;124m\"\u001b[39m\u001b[38;5;124mDate\u001b[39m\u001b[38;5;124m\"\u001b[39m,\u001b[38;5;124m\"\u001b[39m\u001b[38;5;124mClose\u001b[39m\u001b[38;5;124m\"\u001b[39m,\u001b[38;5;124m\"\u001b[39m\u001b[38;5;124mMA_1yr\u001b[39m\u001b[38;5;124m\"\u001b[39m,\u001b[38;5;124m\"\u001b[39m\u001b[38;5;124mMA_3yr\u001b[39m\u001b[38;5;124m\"\u001b[39m,\u001b[38;5;124m\"\u001b[39m\u001b[38;5;124mMA_5yr\u001b[39m\u001b[38;5;124m\"\u001b[39m,\u001b[38;5;124m\"\u001b[39m\u001b[38;5;124mMA_10yr\u001b[39m\u001b[38;5;124m\"\u001b[39m]],\n\u001b[1;32m      3\u001b[0m                         META[[\u001b[38;5;124m\"\u001b[39m\u001b[38;5;124mDate\u001b[39m\u001b[38;5;124m\"\u001b[39m,\u001b[38;5;124m\"\u001b[39m\u001b[38;5;124mClose\u001b[39m\u001b[38;5;124m\"\u001b[39m,\u001b[38;5;124m\"\u001b[39m\u001b[38;5;124mMA_1yr\u001b[39m\u001b[38;5;124m\"\u001b[39m,\u001b[38;5;124m\"\u001b[39m\u001b[38;5;124mMA_3yr\u001b[39m\u001b[38;5;124m\"\u001b[39m,\u001b[38;5;124m\"\u001b[39m\u001b[38;5;124mMA_5yr\u001b[39m\u001b[38;5;124m\"\u001b[39m,\u001b[38;5;124m\"\u001b[39m\u001b[38;5;124mMA_10yr\u001b[39m\u001b[38;5;124m\"\u001b[39m]],\n\u001b[1;32m      4\u001b[0m                         AMD[[\u001b[38;5;124m\"\u001b[39m\u001b[38;5;124mDate\u001b[39m\u001b[38;5;124m\"\u001b[39m,\u001b[38;5;124m\"\u001b[39m\u001b[38;5;124mClose\u001b[39m\u001b[38;5;124m\"\u001b[39m,\u001b[38;5;124m\"\u001b[39m\u001b[38;5;124mMA_1yr\u001b[39m\u001b[38;5;124m\"\u001b[39m,\u001b[38;5;124m\"\u001b[39m\u001b[38;5;124mMA_3yr\u001b[39m\u001b[38;5;124m\"\u001b[39m,\u001b[38;5;124m\"\u001b[39m\u001b[38;5;124mMA_5yr\u001b[39m\u001b[38;5;124m\"\u001b[39m,\u001b[38;5;124m\"\u001b[39m\u001b[38;5;124mMA_10yr\u001b[39m\u001b[38;5;124m\"\u001b[39m]],\n\u001b[1;32m      5\u001b[0m                         AI[[\u001b[38;5;124m\"\u001b[39m\u001b[38;5;124mDate\u001b[39m\u001b[38;5;124m\"\u001b[39m,\u001b[38;5;124m\"\u001b[39m\u001b[38;5;124mClose\u001b[39m\u001b[38;5;124m\"\u001b[39m,\u001b[38;5;124m\"\u001b[39m\u001b[38;5;124mMA_1yr\u001b[39m\u001b[38;5;124m\"\u001b[39m,\u001b[38;5;124m\"\u001b[39m\u001b[38;5;124mMA_3yr\u001b[39m\u001b[38;5;124m\"\u001b[39m,\u001b[38;5;124m\"\u001b[39m\u001b[38;5;124mMA_5yr\u001b[39m\u001b[38;5;124m\"\u001b[39m,\u001b[38;5;124m\"\u001b[39m\u001b[38;5;124mMA_10yr\u001b[39m\u001b[38;5;124m\"\u001b[39m]],\n\u001b[1;32m      6\u001b[0m                        keys \u001b[38;5;241m=\u001b[39m [\u001b[38;5;124m\"\u001b[39m\u001b[38;5;124mNVDA\u001b[39m\u001b[38;5;124m\"\u001b[39m,\u001b[38;5;124m\"\u001b[39m\u001b[38;5;124mMETA\u001b[39m\u001b[38;5;124m\"\u001b[39m,\u001b[38;5;124m\"\u001b[39m\u001b[38;5;124mAMD\u001b[39m\u001b[38;5;124m\"\u001b[39m,\u001b[38;5;124m\"\u001b[39m\u001b[38;5;124mAI\u001b[39m\u001b[38;5;124m\"\u001b[39m],\n\u001b[1;32m      7\u001b[0m                        axis\u001b[38;5;241m=\u001b[39m\u001b[38;5;241m1\u001b[39m)\n",
      "\u001b[0;31mTypeError\u001b[0m: string indices must be integers, not 'list'"
     ]
    }
   ],
   "source": [
    "#combine all dat into a single DataFrame for plotting\n",
    "combined_df = pd.concat(NVDA[[\"Date\",\"Close\",\"MA_1yr\",\"MA_3yr\",\"MA_5yr\",\"MA_10yr\"]],\n",
    "                        META[[\"Date\",\"Close\",\"MA_1yr\",\"MA_3yr\",\"MA_5yr\",\"MA_10yr\"]],\n",
    "                        AMD[[\"Date\",\"Close\",\"MA_1yr\",\"MA_3yr\",\"MA_5yr\",\"MA_10yr\"]],\n",
    "                        AI[[\"Date\",\"Close\",\"MA_1yr\",\"MA_3yr\",\"MA_5yr\",\"MA_10yr\"]],\n",
    "                       keys = [\"NVDA\",\"META\",\"AMD\",\"AI\"],\n",
    "                       axis=1)"
   ]
  },
  {
   "cell_type": "code",
   "execution_count": null,
   "id": "1e4cbacd-7d7a-4eeb-b206-c4795db1e287",
   "metadata": {},
   "outputs": [],
   "source": [
    "#plotting\n",
    "fig,axes = plt.subplots(4, 1, figsize=(12, 16),\n",
    "sharex=True)\n",
    "for i, (stock, data) in enumerate(combined _df.iteritems()):\n",
    "     ax = axes[i]\n",
    "     data.plot(y=[\"Close\",\"MA_1yr\",\"MA_3yr\",\"MA_ 5yr\",\"MA_10yr\"], ax=ах)\n",
    "     ax.set_title(stock[1])\n",
    "     ax. legend([\"Close\",\"1yr MA\",\"3yr MA\",\"5yr MA\",\"10yr MA\"]) \n",
    "     ax.grid (True)\n",
    "     ax.set_xlabel(\"Date\")\n",
    "     ax.set_ylabel(\"Price\")\n",
    "plt.tight_layout()\n",
    "plt.show()\n",
    "                        "
   ]
  },
  {
   "cell_type": "code",
   "execution_count": 95,
   "id": "9a08b14c-3dac-437c-ae10-8cb9353f7c3c",
   "metadata": {},
   "outputs": [
    {
     "ename": "NameError",
     "evalue": "name 'df' is not defined",
     "output_type": "error",
     "traceback": [
      "\u001b[0;31m---------------------------------------------------------------------------\u001b[0m",
      "\u001b[0;31mNameError\u001b[0m                                 Traceback (most recent call last)",
      "Cell \u001b[0;32mIn[95], line 2\u001b[0m\n\u001b[1;32m      1\u001b[0m \u001b[38;5;66;03m#calculate the yearly returns for each stock\u001b[39;00m\n\u001b[0;32m----> 2\u001b[0m NVDA[\u001b[38;5;124m\"\u001b[39m\u001b[38;5;124mYear\u001b[39m\u001b[38;5;124m\"\u001b[39m] \u001b[38;5;241m=\u001b[39m df[\u001b[38;5;124m\"\u001b[39m\u001b[38;5;124mDate\u001b[39m\u001b[38;5;124m\"\u001b[39m]\u001b[38;5;241m.\u001b[39mdt\u001b[38;5;241m.\u001b[39myear\n\u001b[1;32m      3\u001b[0m NVDA[\u001b[38;5;124m\"\u001b[39m\u001b[38;5;124myearly_return\u001b[39m\u001b[38;5;124m\"\u001b[39m] \u001b[38;5;241m=\u001b[39m NVDA[\u001b[38;5;124m\"\u001b[39m\u001b[38;5;124mClose\u001b[39m\u001b[38;5;124m\"\u001b[39m]\u001b[38;5;241m.\u001b[39mpct_change()\u001b[38;5;241m*\u001b[39m\u001b[38;5;241m100\u001b[39m\n\u001b[1;32m      4\u001b[0m NVDA[\u001b[38;5;124m\"\u001b[39m\u001b[38;5;124mMA_yearly_return_1yr\u001b[39m\u001b[38;5;124m\"\u001b[39m] \u001b[38;5;241m=\u001b[39m NVDA[\u001b[38;5;124m\"\u001b[39m\u001b[38;5;124myearly_return\u001b[39m\u001b[38;5;124m\"\u001b[39m]\u001b[38;5;241m.\u001b[39mrolling(window\u001b[38;5;241m=\u001b[39m\u001b[38;5;241m252\u001b[39m)\u001b[38;5;241m.\u001b[39mmean()\n",
      "\u001b[0;31mNameError\u001b[0m: name 'df' is not defined"
     ]
    }
   ],
   "source": [
    "#calculate the yearly returns for each stock\n",
    "NVDA[\"Year\"] = df[\"Date\"].dt.year\n",
    "NVDA[\"yearly_return\"] = NVDA[\"Close\"].pct_change()*100\n",
    "NVDA[\"MA_yearly_return_1yr\"] = NVDA[\"yearly_return\"].rolling(window=252).mean()\n",
    "NVDA[\"MA_yearly_return_3yr\"] = NVDA[\"yearly_return\"].rolling(window=252*3).mean()\n",
    "NVDA[\"MA_yearly_return_5yr\"] = NVDA[\"yearly_return\"].rolling(window=252*5).mean()\n",
    "NVDA[\"MA_yearly_return_10yr\"] = NVDA[\"yearly_return\"].rolling(window=252*10).mean()\n",
    "\n",
    "META[\"Year\"] = df[\"Date\"].dt.year\n",
    "META[\"yearly_return\"] = META[\"Close\"].pct_change()*100\n",
    "META[\"MA_yearly_return_1yr\"] =META[\"yearly_return\"].rolling(window=252).mean()\n",
    "META[\"MA_yearly_return_3yr\"] = META[\"yearly_return\"].rolling(window=252*3).mean()\n",
    "META[\"MA_yearly_return_5yr\"] = META[\"yearly_return\"].rolling(window=252*5).mean()\n",
    "META[\"MA_yearly_return_10yr\"] = META[\"yearly_return\"].rolling(window=252*10).mean()\n",
    "\n",
    "AMD[\"Year\"] = df[\"Date\"].dt.year\n",
    "AMD[\"yearly_return\"] = AMD[\"Close\"].pct_change()*100\n",
    "AMD[\"MA_yearly_return_1yr\"] =AMD[\"yearly_return\"].rolling(window=252).mean()\n",
    "AMD[\"MA_yearly_return_3yr\"] = AMD[\"yearly_return\"].rolling(window=252*3).mean()\n",
    "AMD[\"MA_yearly_return_5yr\"] = AMD[\"yearly_return\"].rolling(window=252*5).mean()\n",
    "AMD[\"MA_yearly_return_10yr\"] = AMD[\"yearly_return\"].rolling(window=252*10).mean()\n",
    "\n",
    "AI[\"Year\"] = df[\"Date\"].dt.year\n",
    "AI[\"yearly_return\"] = AI[\"Close\"].pct_change()*100\n",
    "AI[\"MA_yearly_return_1yr\"] =AI[\"yearly_return\"].rolling(window=252).mean()\n",
    "AI[\"MA_yearly_return_3yr\"] = AI[\"yearly_return\"].rolling(window=252*3).mean()\n",
    "AI[\"MA_yearly_return_5yr\"] = AI[\"yearly_return\"].rolling(window=252*5).mean()\n",
    "AI[\"MA_yearly_return_10yr\"] = AI[\"yearly_return\"].rolling(window=252*10).mean()\n"
   ]
  },
  {
   "cell_type": "code",
   "execution_count": null,
   "id": "c0f3be0b-7745-4bc4-94c4-14a3e951059c",
   "metadata": {},
   "outputs": [],
   "source": [
    "#Combine all data into a single DataFrame for plotting\n",
    "combined_returns_df = pd.concat([nvda_df[[\"Year\",\"MA_Yearly_Return_1yr\",\"MA_ Yearly_Return_3yr\",\n",
    "                                           \"MA_Yearly_Return_5yr\",\"MA_Yearly_Return_10yr\"]],\n",
    "                                  meta_df[[\"Year\",\"MA_Yearly_Return_1yr\",\"MA_Yearly_Return_3yr\",\n",
    "                                           \"MA_Yearly_Return_5yr\",\"MA_Yearly_Return_10yr\"]],\n",
    "                                  amd_df[[\"Year\",\"MA_Yearly_Return_1yr\",\"MA_Yearly_Return_3yr\",\n",
    "                                          \"MA_Yearly_Return_5yr\",\"MA_Yearly_Return_10yr\"]],\n",
    "                                   ai_df[[\"Year\",\"MA_Yearly_Return_1yr\",\"MA_Yearly_Return_3yr\",\n",
    "                                           \"MA_Yearly_Return_5yr\",\"MA_Yearly_Return_10yr\"]]]\n",
    "                                 keys=[\"NVDA\",\"META\",\"AMD\",\"AI\"],\n",
    "                                 axis=1)"
   ]
  },
  {
   "cell_type": "code",
   "execution_count": null,
   "id": "abfeb261-743c-4643-9be9-14c485ceb8e3",
   "metadata": {},
   "outputs": [],
   "source": [
    "#Correlation and plotting\n",
    "fig, axes = pt.subplots(4, 1, figsize=(12, 16),sharex=True)\n",
    "for i, (stock, data) in enumerate(combined_returns_df.iteritems):\n",
    "     ax = axes|i]\n",
    "     data.plot(x='Year',y=[\"MA_Yearly_Return_1yr\",\"MA_Yearly_Return_3yr\",\"MA_Yearly_Return_5yr\",\"MA_Yearly_Return_10yr\"], ax=ax)\n",
    "     ax.set_title(stock[1])\n",
    "     ax. legend([\"1yr MA\",\"3yr MA\",\"5yr MA\",\"10yr MA\"])\n",
    "     ax.grid (True)\n",
    "     ax.set_xlabel(Year)\n",
    "     ax.set_Ylabel(Average Yearly Return (%))\n",
    "plt.tight_layout()\n",
    "plt.show"
   ]
  },
  {
   "cell_type": "code",
   "execution_count": null,
   "id": "3683fc75-3203-4a2d-b424-604698902596",
   "metadata": {},
   "outputs": [],
   "source": [
    "# Combine yearly returns into a single DataFrame\n",
    "yearly_returns_df = pd.concat([nvda_df[[\"Year\",\"Yearly _Return\"]],\n",
    "                               meta_ df[[\"Year\", \"Yearly_Return\"]],\n",
    "                               amd_df[[\"Year\",\"Yearly_Return\"]],\n",
    "                               ai_df[[\"Year\", \"Yearly_Return\"]]],\n",
    "                               keys=[\"NVDA\",\"META\",\"AMD\",\"AI\"]\n",
    "                              axis=1\n",
    "                              )"
   ]
  },
  {
   "cell_type": "code",
   "execution_count": null,
   "id": "c198c2e3-e9c7-4590-b1bc-52dd26be00ac",
   "metadata": {},
   "outputs": [],
   "source": [
    "#calculate the correlation matrix\n",
    "correlation-matrix=yearly_returns_df[\"yearly_return\"].corr()\n",
    "\n",
    "#display the correlation matrix\n",
    "print(\"Correlation Matrix :\")\n",
    "print(correlation_matrix)"
   ]
  },
  {
   "cell_type": "code",
   "execution_count": null,
   "id": "bc75991f-5eba-4344-973a-2326ec3dcef7",
   "metadata": {},
   "outputs": [],
   "source": []
  },
  {
   "cell_type": "markdown",
   "id": "ac23101f-b02b-4e33-bf2b-734d1dd8357f",
   "metadata": {},
   "source": [
    "# Measure of Risk"
   ]
  },
  {
   "cell_type": "code",
   "execution_count": null,
   "id": "ff6ff105-3b8a-40f8-947e-e5c2375752e1",
   "metadata": {},
   "outputs": [],
   "source": []
  },
  {
   "cell_type": "code",
   "execution_count": null,
   "id": "2cd0bdaa-651c-446f-adb5-1fbda82635cd",
   "metadata": {},
   "outputs": [],
   "source": []
  }
 ],
 "metadata": {
  "kernelspec": {
   "display_name": "Python 3 (ipykernel)",
   "language": "python",
   "name": "python3"
  },
  "language_info": {
   "codemirror_mode": {
    "name": "ipython",
    "version": 3
   },
   "file_extension": ".py",
   "mimetype": "text/x-python",
   "name": "python",
   "nbconvert_exporter": "python",
   "pygments_lexer": "ipython3",
   "version": "3.11.7"
  }
 },
 "nbformat": 4,
 "nbformat_minor": 5
}
